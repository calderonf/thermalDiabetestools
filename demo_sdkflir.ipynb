{
 "cells": [
  {
   "attachments": {},
   "cell_type": "markdown",
   "metadata": {},
   "source": [
    "# Flir SDK demo"
   ]
  },
  {
   "cell_type": "code",
   "execution_count": 1,
   "metadata": {},
   "outputs": [],
   "source": [
    "import fnv\n",
    "import fnv.reduce\n",
    "import fnv.file\n",
    "import sys\n",
    "import os\n",
    "import shlex"
   ]
  },
  {
   "cell_type": "code",
   "execution_count": 6,
   "metadata": {},
   "outputs": [],
   "source": [
    "filename = \"C:\\\\Users\\\\Francisco\\\\Documents\\\\dataset_termal_destino\\\\Control_Image termal C_paciente 3 (VC)_flir_control_flir_20190907T092339.jpg\"\n",
    "#filename = \"D:\\\\FLIROne\\FLIR_20230426_044637_061.jpg\"\n",
    "#filename = \"D:\\\\FLIROne\\FLIR_20230426_044706_939.jpg\"\n",
    "im = fnv.file.ImagerFile(filename)"
   ]
  },
  {
   "cell_type": "code",
   "execution_count": 7,
   "metadata": {},
   "outputs": [
    {
     "name": "stdout",
     "output_type": "stream",
     "text": [
      "Image min: 4312.0\n",
      "Image max: 4664.0\n",
      "Image mean: 4400.959303385417\n",
      "Preset: 0\n",
      "Frame Number: 0\n",
      "Time: 2019-09-07 14:23:21\n",
      "<fnv.file.ImagerFile object at 0x000001DDC27268A0>\n"
     ]
    }
   ],
   "source": [
    "(frame, eof) = im.first_frame_number(fnv.Preset.ANY)\n",
    "if frame is not None:\n",
    "    im.get_frame(frame)\n",
    "    frameInfo = im.frame_info\n",
    "    imageRoi = im.rois[0]\n",
    "    print(\"Image min:\", imageRoi.min_value)\n",
    "    print(\"Image max:\", imageRoi.max_value)\n",
    "    print(\"Image mean:\", imageRoi.mean)\n",
    "    print(\"Preset:\", frameInfo.preset)\n",
    "    print(\"Frame Number:\", frameInfo.frame)\n",
    "    print(\"Time:\", frameInfo.time)\n",
    "\n",
    "print(im)"
   ]
  },
  {
   "cell_type": "code",
   "execution_count": 8,
   "metadata": {},
   "outputs": [
    {
     "name": "stdout",
     "output_type": "stream",
     "text": [
      "Image min: 4312.0\n",
      "Image max: 4664.0\n",
      "Image mean: 4400.959303385417\n",
      "Preset: 0\n",
      "Frame Number: 0\n",
      "Time: 2019-09-07 14:23:21\n"
     ]
    }
   ],
   "source": [
    "(frame, eof) = im.first_frame_number(fnv.Preset.SUPERFRAME)\n",
    "if frame is not None:\n",
    "    im.get_superframe(frame)\n",
    "    frameInfo = im.frame_info\n",
    "    imageRoi = im.rois[0]\n",
    "    print(\"Image min:\", imageRoi.min_value)\n",
    "    print(\"Image max:\", imageRoi.max_value)\n",
    "    print(\"Image mean:\", imageRoi.mean)\n",
    "    print(\"Preset:\", frameInfo.preset)\n",
    "    print(\"Frame Number:\", frameInfo.frame)\n",
    "    print(\"Time:\", frameInfo.time)"
   ]
  },
  {
   "cell_type": "code",
   "execution_count": 9,
   "metadata": {},
   "outputs": [],
   "source": [
    "#Save CSV\n",
    "outputfile=\"ejemplo.csv\"\n",
    "if im.has_frame:\n",
    "    width = im.width\n",
    "    height = im.height\n",
    "    final = im.final\n",
    "    with open(outputfile, 'w') as f:\n",
    "        for y in range(height):\n",
    "            for x in range(width):\n",
    "                if x != 0:\n",
    "                    f.write(\",\")\n",
    "                f.write(str(final[y * width + x]))\n",
    "            f.write(\"\\n\")"
   ]
  },
  {
   "cell_type": "code",
   "execution_count": 10,
   "metadata": {},
   "outputs": [
    {
     "name": "stdout",
     "output_type": "stream",
     "text": [
      "Image min: 4312.0\n",
      "Image max: 4664.0\n",
      "Image mean: 4400.959303385417\n"
     ]
    }
   ],
   "source": [
    "imageRoi = im.rois[0]\n",
    "print(\"Image min:\", imageRoi.min_value)\n",
    "print(\"Image max:\", imageRoi.max_value)\n",
    "print(\"Image mean:\", imageRoi.mean)"
   ]
  },
  {
   "cell_type": "code",
   "execution_count": 11,
   "metadata": {},
   "outputs": [
    {
     "name": "stdout",
     "output_type": "stream",
     "text": [
      "['__class__', '__delattr__', '__dir__', '__doc__', '__eq__', '__format__', '__ge__', '__getattribute__', '__gt__', '__hash__', '__init__', '__init_subclass__', '__le__', '__lt__', '__ne__', '__new__', '__reduce__', '__reduce_ex__', '__repr__', '__setattr__', '__setstate__', '__sizeof__', '__str__', '__subclasshook__', 'abated_presets', 'adjusted', 'apply_bp', 'apply_nuc', 'available_presets', 'base_temp_type', 'base_unit', 'can_change_object_parameters', 'close', 'data_type', 'extract', 'final', 'first_frame_number', 'frame_info', 'frame_iter', 'frame_number', 'get_frame', 'get_preset', 'get_superframe', 'has_bp', 'has_frame', 'has_nuc', 'has_unit', 'height', 'initial_preset', 'is_abated', 'is_open', 'is_superframe', 'is_superframing', 'last_frame_number', 'nearest_frame_number', 'next_frame_number', 'num_frames', 'num_pixels', 'num_presets', 'object_parameters', 'open', 'original', 'preset', 'previous_frame_number', 'reduce_objects', 'reset_object_parameters', 'reverse_frame_iter', 'rois', 'source_info', 'status', 'subframe', 'subframe_map', 'supported_units', 'temp_type', 'unit', 'update_frame', 'width']\n"
     ]
    }
   ],
   "source": [
    "print(dir(im))"
   ]
  },
  {
   "cell_type": "code",
   "execution_count": 19,
   "metadata": {},
   "outputs": [
    {
     "name": "stdout",
     "output_type": "stream",
     "text": [
      "['__class__', '__delattr__', '__dir__', '__doc__', '__eq__', '__format__', '__ge__', '__getattribute__', '__gt__', '__hash__', '__init__', '__init_subclass__', '__le__', '__lt__', '__ne__', '__new__', '__reduce__', '__reduce_ex__', '__repr__', '__setattr__', '__setstate__', '__sizeof__', '__str__', '__subclasshook__', 'area', 'area_valid', 'center_position', 'center_value', 'distance', 'emissivity', 'export_bitmask', 'export_svg', 'length', 'length_valid', 'max_position', 'max_value', 'mean', 'min_position', 'min_value', 'name', 'num_pixels', 'pixel_area', 'std_dev', 'sum', 'type', 'use_distance', 'use_emissivity']\n",
      "__class__ : <class 'fnv.reduce.Roi'>\n",
      "__delattr__ : <method-wrapper '__delattr__' of fnv.reduce.Roi object at 0x000001DDC28C7A10>\n",
      "__dir__ : <built-in method __dir__ of fnv.reduce.Roi object at 0x000001DDC28C7E50>\n",
      "__doc__ : \n",
      "\tRegion of Interest\n",
      "\n",
      "\tRepresents an roi and the stats associatd with it.\n",
      "\t\n",
      "__eq__ : <method-wrapper '__eq__' of fnv.reduce.Roi object at 0x000001DDC28C7E50>\n",
      "__format__ : <built-in method __format__ of fnv.reduce.Roi object at 0x000001DDC28C7A10>\n",
      "__ge__ : <method-wrapper '__ge__' of fnv.reduce.Roi object at 0x000001DDC28C7E50>\n",
      "__getattribute__ : <method-wrapper '__getattribute__' of fnv.reduce.Roi object at 0x000001DDC28C7A10>\n",
      "__gt__ : <method-wrapper '__gt__' of fnv.reduce.Roi object at 0x000001DDC28C7E50>\n",
      "__hash__ : <method-wrapper '__hash__' of fnv.reduce.Roi object at 0x000001DDC28C7A10>\n",
      "__init__ : <method-wrapper '__init__' of fnv.reduce.Roi object at 0x000001DDC28C7E50>\n",
      "__init_subclass__ : <built-in method __init_subclass__ of type object at 0x00007FFC4D4657A0>\n",
      "__le__ : <method-wrapper '__le__' of fnv.reduce.Roi object at 0x000001DDC28C7E50>\n",
      "__lt__ : <method-wrapper '__lt__' of fnv.reduce.Roi object at 0x000001DDC28C7A10>\n",
      "__ne__ : <method-wrapper '__ne__' of fnv.reduce.Roi object at 0x000001DDC28C7E50>\n",
      "__new__ : <built-in method __new__ of type object at 0x00007FFC4D4657A0>\n",
      "__reduce__ : <built-in method __reduce_cython__ of fnv.reduce.Roi object at 0x000001DDC28C7E50>\n",
      "__reduce_ex__ : <built-in method __reduce_ex__ of fnv.reduce.Roi object at 0x000001DDC28C7A10>\n",
      "__repr__ : <method-wrapper '__repr__' of fnv.reduce.Roi object at 0x000001DDC28C7E50>\n",
      "__setattr__ : <method-wrapper '__setattr__' of fnv.reduce.Roi object at 0x000001DDC28C7A10>\n",
      "__setstate__ : <built-in method __setstate_cython__ of fnv.reduce.Roi object at 0x000001DDC28C7E50>\n",
      "__sizeof__ : <built-in method __sizeof__ of fnv.reduce.Roi object at 0x000001DDC28C7A10>\n",
      "__str__ : <method-wrapper '__str__' of fnv.reduce.Roi object at 0x000001DDC28C7E50>\n",
      "__subclasshook__ : <built-in method __subclasshook__ of type object at 0x00007FFC4D4657A0>\n",
      "area : 0.0\n",
      "area_valid : False\n",
      "center_position : {'x': 239.5, 'y': 319.5}\n",
      "center_value : 4664.0\n",
      "distance : 1.0\n",
      "emissivity : 1.0\n",
      "export_bitmask : <built-in method export_bitmask of fnv.reduce.Roi object at 0x000001DDC28C7E50>\n",
      "export_svg : <built-in method export_svg of fnv.reduce.Roi object at 0x000001DDC28C7A10>\n",
      "length : 0.0\n",
      "length_valid : False\n",
      "max_position : {'x': 177, 'y': 325}\n",
      "max_value : 4664.0\n",
      "mean : 4400.959303385417\n",
      "min_position : {'x': 479, 'y': 350}\n",
      "min_value : 4312.0\n",
      "name : Image\n",
      "num_pixels : 307200\n",
      "pixel_area : 0.0\n",
      "std_dev : 43.48621852787272\n",
      "sum : 1351974698.0\n",
      "type : RoiType.IMAGE\n",
      "use_distance : False\n",
      "use_emissivity : False\n"
     ]
    }
   ],
   "source": [
    "print(dir(im.rois[0]))\n",
    "rois_attributes = dir(im.rois[0])\n",
    "for attribute in rois_attributes:\n",
    "    value = getattr(im.rois[0], attribute)\n",
    "    print(attribute, \":\", value)"
   ]
  },
  {
   "cell_type": "code",
   "execution_count": null,
   "metadata": {},
   "outputs": [],
   "source": []
  }
 ],
 "metadata": {
  "kernelspec": {
   "display_name": "thermal",
   "language": "python",
   "name": "python3"
  },
  "language_info": {
   "codemirror_mode": {
    "name": "ipython",
    "version": 3
   },
   "file_extension": ".py",
   "mimetype": "text/x-python",
   "name": "python",
   "nbconvert_exporter": "python",
   "pygments_lexer": "ipython3",
   "version": "3.8.16"
  },
  "orig_nbformat": 4
 },
 "nbformat": 4,
 "nbformat_minor": 2
}
