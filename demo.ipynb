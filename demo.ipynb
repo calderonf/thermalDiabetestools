{
 "cells": [
  {
   "attachments": {},
   "cell_type": "markdown",
   "metadata": {},
   "source": [
    "# Demo to test and show the functionality of the library"
   ]
  },
  {
   "cell_type": "code",
   "execution_count": 1,
   "metadata": {},
   "outputs": [],
   "source": [
    "# Importing Functions\n",
    "import numpy as np\n",
    "import matplotlib.pyplot as plt\n",
    "import matplotlib\n",
    "matplotlib.use('TKAgg') # Needed to have figures display properly. \n",
    "import flirimageextractor\n",
    "import Utils as u\n",
    "import cv2\n",
    "\n",
    "DEBUG=False"
   ]
  },
  {
   "cell_type": "code",
   "execution_count": 2,
   "metadata": {},
   "outputs": [],
   "source": [
    "#filename = \"C:\\\\Users\\\\Francisco\\\\Documents\\\\dataset_termal_destino\\\\Control_Image termal C_paciente 3 (VC)_flir_control_flir_20190907T092339.jpg\"\n",
    "#filename = \"C:\\\\Users\\\\Francisco\\\\Documents\\\\ThermalDataset\\\\Control\\\\Thermal-Images\\\\paciente_3\\\\flir\\\\control\\\\flir_20190907T092339.jpg\"\n",
    "filename = \"C:\\\\Users\\\\Francisco\\\\Documents\\\\ThermalDataset\\\\Control\\\\Thermal-Images\\\\paciente_4\\\\flir\\\\control\\\\flir_20190907T104934.jpg\"\n",
    "#filename = \"D:\\\\FLIROne\\FLIR_20230426_044637_061.jpg\"\n",
    "#filename = \"D:\\\\FLIROne\\FLIR_20230426_044706_939.jpg\"\n",
    "flir = flirimageextractor.FlirImageExtractor(exiftool_path=\"C:\\\\Windows\\\\exiftool.exe\")\n",
    "flir.process_image(filename, RGB=True)"
   ]
  },
  {
   "cell_type": "code",
   "execution_count": 3,
   "metadata": {},
   "outputs": [],
   "source": [
    "therm = flir.get_thermal_np()\n",
    "rgb_fullres = flir.get_rgb_np()\n",
    "if DEBUG:\n",
    "    plt.figure(figsize=(10,5))\n",
    "    plt.subplot(1,2,1)\n",
    "    plt.imshow(therm)\n",
    "    plt.title('Raw Thermal Image')\n",
    "    plt.subplot(1,2,2)\n",
    "    plt.imshow(rgb_fullres)\n",
    "    plt.title('RGB Full Resolution Image')\n",
    "    plt.show(block='TRUE') "
   ]
  },
  {
   "cell_type": "code",
   "execution_count": 4,
   "metadata": {},
   "outputs": [],
   "source": [
    "colormap_image, Imsalida,temp_img_resized,image_copy = u.extract_images(flir,plot=0)"
   ]
  },
  {
   "cell_type": "code",
   "execution_count": 5,
   "metadata": {},
   "outputs": [],
   "source": [
    "#u.save_thermal_csv(temp_img_resized,\"temperature_examples.csv\",delimiter=\";\")"
   ]
  },
  {
   "attachments": {},
   "cell_type": "markdown",
   "metadata": {},
   "source": [
    "# second part of the demo get the perspective transformation between two images"
   ]
  },
  {
   "cell_type": "code",
   "execution_count": 6,
   "metadata": {},
   "outputs": [],
   "source": [
    "#filename2 = \"C:\\\\Users\\\\Francisco\\\\Documents\\\\dataset_termal_destino\\\\Control_Image termal C_paciente 3 (VC)_flir_control_flir_20190907T092409.jpg\"\n",
    "#filename2 = \"C:\\\\Users\\\\Francisco\\\\Documents\\\\ThermalDataset\\\\Control\\\\Thermal-Images\\\\paciente_3\\\\flir\\\\control\\\\flir_20190907T093339.jpg\"\n",
    "filename2 = \"C:\\\\Users\\\\Francisco\\\\Documents\\\\ThermalDataset\\\\Control\\\\Thermal-Images\\\\paciente_4\\\\flir\\\\control\\\\flir_20190907T105015.jpg\"\n",
    "flir2 = flirimageextractor.FlirImageExtractor(exiftool_path=\"C:\\\\Windows\\\\exiftool.exe\")\n",
    "flir2.process_image(filename2, RGB=True)\n",
    "therm2 = flir2.get_thermal_np()\n",
    "rgb_fullres2 = flir2.get_rgb_np()\n",
    "colormap_image2, Imsalida2,temp_img_resized2,image_copy2 = u.extract_images(flir2,plot=0)\n",
    "#u.save_thermal_csv(temp_img_resized2,\"temperature_examples2.csv\",delimiter=\";\")\n",
    "if DEBUG:\n",
    "    plt.figure(figsize=(10,5))\n",
    "    plt.subplot(1,2,1)\n",
    "    plt.imshow(temp_img_resized2)\n",
    "    plt.title('temp_img_resized2')\n",
    "    plt.subplot(1,2,2)\n",
    "    plt.imshow(image_copy2)\n",
    "    plt.title('image_copy2')\n",
    "    plt.show(block='TRUE') \n"
   ]
  },
  {
   "cell_type": "code",
   "execution_count": 7,
   "metadata": {},
   "outputs": [
    {
     "data": {
      "text/plain": [
       "'\\ndef fethearing_bin_to_color(binary_image, color_image):\\n    # Operación de cierre morfológico con un kernel elíptico de tamaño 5x5\\n    kernel = cv2.getStructuringElement(cv2.MORPH_ELLIPSE, (7, 7))\\n    closed_image = cv2.morphologyEx(binary_image, cv2.MORPH_CLOSE, kernel)\\n    \\n    # Fethearing usando filtro guiado\\n    filtered_image = cv2.ximgproc.guidedFilter(color_image, closed_image, 20, eps=0.1)#5, eps=1e-4\\n    \\n    # Umbralización de la imagen filtrada\\n    _, thresholded_image = cv2.threshold(filtered_image,20, 255, cv2.THRESH_BINARY)\\n    \\n    return filtered_image\\n'"
      ]
     },
     "execution_count": 7,
     "metadata": {},
     "output_type": "execute_result"
    }
   ],
   "source": [
    "\n",
    "\n",
    "\"\"\"\n",
    "def fethearing_bin_to_color(binary_image, color_image):\n",
    "    # Operación de cierre morfológico con un kernel elíptico de tamaño 5x5\n",
    "    kernel = cv2.getStructuringElement(cv2.MORPH_ELLIPSE, (7, 7))\n",
    "    closed_image = cv2.morphologyEx(binary_image, cv2.MORPH_CLOSE, kernel)\n",
    "    \n",
    "    # Fethearing usando filtro guiado\n",
    "    filtered_image = cv2.ximgproc.guidedFilter(color_image, closed_image, 20, eps=0.1)#5, eps=1e-4\n",
    "    \n",
    "    # Umbralización de la imagen filtrada\n",
    "    _, thresholded_image = cv2.threshold(filtered_image,20, 255, cv2.THRESH_BINARY)\n",
    "    \n",
    "    return filtered_image\n",
    "\"\"\"\n"
   ]
  },
  {
   "cell_type": "code",
   "execution_count": 8,
   "metadata": {},
   "outputs": [],
   "source": [
    "import registration_simpleitk as sr"
   ]
  },
  {
   "cell_type": "code",
   "execution_count": 9,
   "metadata": {},
   "outputs": [
    {
     "name": "stdout",
     "output_type": "stream",
     "text": [
      "(525, 224, 3)\n"
     ]
    }
   ],
   "source": [
    "\n",
    "segmented_Feet,segmented_temps=u.Find_feets(image_copy,temp_img_resized,percentage=20)\n",
    "if DEBUG:\n",
    "    u.plot_images_and_thermal(segmented_Feet,segmented_temps)\n",
    "segmented_Feet2,segmented_temps2=u.Find_feets(image_copy2,temp_img_resized2,percentage=20)\n",
    "print(segmented_Feet2[1].shape)\n",
    "if DEBUG:\n",
    "    u.plot_images_and_thermal(segmented_Feet2,segmented_temps2)"
   ]
  },
  {
   "cell_type": "code",
   "execution_count": 10,
   "metadata": {},
   "outputs": [
    {
     "data": {
      "text/plain": [
       "\"\\noutput_image,homography_matrix=u.matchbydescriptors(segmented_Feet[0],segmented_Feet2[0])\\nplt.figure(figsize=(10,5))\\nplt.imshow(output_image)\\nplt.title('registration between images')\\nplt.show(block='TRUE') \\n\\noutput_image,homography_matrix=u.matchbydescriptors(segmented_Feet[1],segmented_Feet2[1])\\nplt.figure(figsize=(10,5))\\nplt.imshow(output_image)\\nplt.title('registration between images')\\nplt.show(block='TRUE') \\n\""
      ]
     },
     "execution_count": 10,
     "metadata": {},
     "output_type": "execute_result"
    }
   ],
   "source": [
    "#u.visualize_descriptors(segmented_Feet[0],segmented_Feet2[0])\n",
    "#u.visualize_descriptors(segmented_Feet[1],segmented_Feet2[1])\n",
    "\n",
    "\"\"\"\n",
    "output_image,homography_matrix=u.matchbydescriptors(segmented_Feet[0],segmented_Feet2[0])\n",
    "plt.figure(figsize=(10,5))\n",
    "plt.imshow(output_image)\n",
    "plt.title('registration between images')\n",
    "plt.show(block='TRUE') \n",
    "\n",
    "output_image,homography_matrix=u.matchbydescriptors(segmented_Feet[1],segmented_Feet2[1])\n",
    "plt.figure(figsize=(10,5))\n",
    "plt.imshow(output_image)\n",
    "plt.title('registration between images')\n",
    "plt.show(block='TRUE') \n",
    "\"\"\""
   ]
  },
  {
   "cell_type": "code",
   "execution_count": 11,
   "metadata": {},
   "outputs": [
    {
     "data": {
      "text/plain": [
       "\"\\nregistered_image_a_array, registered_image_b_array, composition_image =sr.register_images(segmented_Feet[0],segmented_Feet2[0],'displaceMeth4.hdf5')\\nif DEBUG:\\n    plt.figure(figsize=(10,5))\\n    plt.subplot(1,2,1)\\n    plt.imshow(registered_image_a_array)\\n    plt.title('registered_image_a_array')\\n    plt.subplot(1,2,2)\\n    plt.imshow(registered_image_b_array)\\n    plt.title('registered_image_b_array')\\n    plt.show(block='TRUE') \\n    \\nplt.figure(figsize=(10,5))\\nplt.imshow(composition_image)\\nplt.title('composition_image')\\nplt.show(block='TRUE') \\n\""
      ]
     },
     "execution_count": 11,
     "metadata": {},
     "output_type": "execute_result"
    }
   ],
   "source": [
    "# using a different approach\n",
    "\"\"\"\n",
    "registered_image_a_array, registered_image_b_array, composition_image =sr.register_images(segmented_Feet[0],segmented_Feet2[0],'displaceMeth4.hdf5')\n",
    "if DEBUG:\n",
    "    plt.figure(figsize=(10,5))\n",
    "    plt.subplot(1,2,1)\n",
    "    plt.imshow(registered_image_a_array)\n",
    "    plt.title('registered_image_a_array')\n",
    "    plt.subplot(1,2,2)\n",
    "    plt.imshow(registered_image_b_array)\n",
    "    plt.title('registered_image_b_array')\n",
    "    plt.show(block='TRUE') \n",
    "    \n",
    "plt.figure(figsize=(10,5))\n",
    "plt.imshow(composition_image)\n",
    "plt.title('composition_image')\n",
    "plt.show(block='TRUE') \n",
    "\"\"\""
   ]
  },
  {
   "cell_type": "code",
   "execution_count": 12,
   "metadata": {},
   "outputs": [
    {
     "name": "stdout",
     "output_type": "stream",
     "text": [
      "  0 =   -1.18686 : (0.9999722353940698, 0.00015811403669645647, 2.493677342749642, -1.40020020924685)\n",
      "  1 =   -1.19050 : (0.9999554348828051, 0.0003226375786312676, 2.4842832107211663, -1.3006425730094495)\n",
      "  2 =   -1.19413 : (0.9999447750627003, 0.000493366396953364, 2.472229808969731, -1.201371800652943)\n",
      "  3 =   -1.19757 : (0.9999637794398273, 0.0006896991876526421, 2.459181259997695, -1.1022269749584404)\n",
      "  4 =   -1.20075 : (1.0000053381548868, 0.0009089527862670447, 2.4444285619901684, -1.0033214235357248)\n",
      "  5 =   -1.20355 : (1.0000139626341327, 0.0011087118139974377, 2.425464887178348, -0.9051361952191358)\n",
      "  6 =   -1.20720 : (0.9999894559946281, 0.0012924532036469598, 2.4071760761942937, -0.8068229965563118)\n",
      "  7 =   -1.21180 : (0.9999611195659004, 0.0014748419619995748, 2.3871996260038806, -0.7088387765554485)\n",
      "  8 =   -1.21548 : (0.9999663355230651, 0.0016773742107753053, 2.3624424891302045, -0.6119520224179501)\n",
      "  9 =   -1.21818 : (1.0000174935065065, 0.0019140935075456092, 2.334958586247016, -0.5158033020461077)\n",
      " 10 =   -1.22102 : (1.0001159758292502, 0.0021838920033804385, 2.3032335805088557, -0.42096954476043724)\n",
      " 11 =   -1.22455 : (1.0001867278249963, 0.0024315689398893333, 2.266920621457604, -0.32779603642661775)\n",
      " 12 =   -1.22786 : (1.0002103495683323, 0.0026450886730403594, 2.226445573844172, -0.23635357160842055)\n",
      " 13 =   -1.23115 : (1.0002212099022894, 0.0028504579301317115, 2.180994430658385, -0.147279718606395)\n",
      " 14 =   -1.23429 : (1.000268770676399, 0.003082037263887954, 2.12669191359542, -0.06330840952042603)\n",
      " 15 =   -1.23701 : (1.000335518126595, 0.0033276339918430113, 2.0657992365071647, 0.01601382635357465)\n",
      " 16 =   -1.23971 : (1.0004058781908718, 0.0035783992372059653, 2.0025714513073654, 0.0934875596118932)\n",
      " 17 =   -1.24284 : (1.000511422172538, 0.003872409891348248, 1.9370363981585994, 0.16901940208241423)\n",
      " 18 =   -1.24570 : (1.0007332171609644, 0.004318698288941002, 1.870210673665737, 0.24341076031476078)\n",
      " 19 =   -1.24900 : (1.0010472616968609, 0.004897146174076538, 1.7996954413715849, 0.3143132905134458)\n",
      " 20 =   -1.25274 : (1.0013915648985883, 0.005548785907639697, 1.7258361303999095, 0.38172440980212313)\n",
      " 21 =   -1.25619 : (1.0017799292892717, 0.006311119394646208, 1.6495777246871062, 0.4464076655867241)\n",
      " 22 =   -1.25969 : (1.0020785391885112, 0.007001175361327064, 1.5721673569537942, 0.5097090843882354)\n",
      " 23 =   -1.26220 : (1.002361563579039, 0.0076947216777174966, 1.493788510729027, 0.5718073561449895)\n",
      " 24 =   -1.26460 : (1.0025960491802128, 0.008334169465764102, 1.4093322796885777, 0.6253487528532513)\n",
      " 25 =   -1.26699 : (1.0028053644544785, 0.009077359475077098, 1.324789585876019, 0.6787522806266297)\n",
      " 26 =   -1.26925 : (1.0030187231297003, 0.010040621579554525, 1.2420903772012857, 0.7349649792699673)\n",
      " 27 =   -1.27173 : (1.003019575913836, 0.010657263007743448, 1.162043546574327, 0.7948993154988837)\n",
      " 28 =   -1.27288 : (1.0028395077013106, 0.010954639525504795, 1.102959312602515, 0.8755772705957359)\n",
      " 29 =   -1.27325 : (1.0029857773327033, 0.011135098722197907, 1.1015769411291683, 0.8255969235703006)\n",
      " 30 =   -1.27363 : (1.0029492121131196, 0.01119779804506451, 1.0813548546401335, 0.8402959694512286)\n",
      " 31 =   -1.27368 : (1.0029433187903238, 0.011362225151583203, 1.0570536952194325, 0.8461633862427194)\n",
      " 32 =   -1.27370 : (1.0029747507286395, 0.011588964078322312, 1.0327905224456728, 0.84014291712121)\n",
      " 33 =   -1.27367 : (1.0029521518104227, 0.011705683855261035, 1.0094266539403578, 0.8490376073490319)\n",
      " 34 =   -1.27357 : (1.0030188542466796, 0.011994279027423952, 1.0002927771964285, 0.825767786566776)\n"
     ]
    },
    {
     "name": "stdout",
     "output_type": "stream",
     "text": [
      " 35 =   -1.27341 : (1.0029965554023041, 0.011998127367739708, 0.9897688769977038, 0.8325129339009042)\n",
      " 36 =   -1.27345 : (1.0029733428898606, 0.012012707332022265, 0.9791810683808085, 0.8391572967218154)\n",
      " 37 =   -1.27347 : (1.0029489699824496, 0.012076097635997029, 0.9675730632780636, 0.8437940633932571)\n",
      " 38 =   -1.27346 : (1.0029597189386996, 0.012120714365589081, 0.9681120647960256, 0.8375675177079662)\n",
      " 39 =   -1.27343 : (1.0029548887041912, 0.012131972420027394, 0.9650553494961894, 0.8382171071943285)\n",
      " 40 =   -1.27342 : (1.0029504786144554, 0.01215149257572395, 0.9619308599820686, 0.8381642887242694)\n",
      " 41 =   -1.27341 : (1.0029470859525251, 0.012179482561203743, 0.9589778876074252, 0.8371421418634171)\n",
      " 42 =   -1.27339 : (1.0029434475977916, 0.012205147209575641, 0.9559941801820322, 0.8362134637233419)\n",
      " 43 =   -1.27337 : (1.0029396659559433, 0.01223217799543316, 0.9530751825849832, 0.8350979669442237)\n",
      " 44 =   -1.27336 : (1.0029340382545673, 0.012253562682982794, 0.9499635719519891, 0.8348098431986679)\n",
      "-------\n",
      "itk::simple::Similarity2DTransform\n",
      " Similarity2DTransform (000001CC8F28E900)\n",
      "   RTTI typeinfo:   class itk::Similarity2DTransform<double>\n",
      "   Reference Count: 3\n",
      "   Modified Time: 4960\n",
      "   Debug: Off\n",
      "   Object Name: \n",
      "   Observers: \n",
      "     none\n",
      "   Matrix: \n",
      "     1.00286 -0.0122892 \n",
      "     0.0122892 1.00286 \n",
      "   Offset: [3.91986, -1.37817]\n",
      "   Center: [117.5, 269]\n",
      "   Translation: [0.949964, 0.83481]\n",
      "   Inverse: \n",
      "     0.997 0.0122174 \n",
      "     -0.0122174 0.997 \n",
      "   Singular: 0\n",
      "   Angle       = 0.0122536\n",
      "   Scale =1.00293\n",
      "\n",
      "Optimizer stop condition: RegularStepGradientDescentOptimizerv4: Gradient magnitude tolerance met after 45 iterations. Gradient magnitude (8.80695e-05) is less than gradient magnitude tolerance (0.0001).\n",
      "Iteration: 46\n",
      "Metric value: -1.2733463718494766\n"
     ]
    }
   ],
   "source": [
    "# using a different approach\n",
    "output =sr.register_images_Similarity2DTransform(segmented_Feet[0],segmented_Feet2[0],'displaceMeth4_advanced.hdf5')\n",
    "fixed_imagen = sr.sitk_image_to_opencv(output[\"fixed\"])\n",
    "moving_imagen = sr.sitk_image_to_opencv(output[\"moving\"])\n",
    "composition_image = sr.sitk_image_to_opencv(output[\"composition\"])\n",
    "if DEBUG:\n",
    "    plt.figure(figsize=(10,5))\n",
    "    plt.subplot(1,2,1)\n",
    "    plt.imshow(fixed_imagen)\n",
    "    plt.title('fixed_imagen')\n",
    "    plt.subplot(1,2,2)\n",
    "    plt.imshow(moving_imagen)\n",
    "    plt.title('moving_imagen')\n",
    "    plt.show(block='TRUE') \n",
    "\n",
    "plt.figure(figsize=(10,5))\n",
    "plt.imshow(composition_image)\n",
    "plt.title('composition_image')\n",
    "plt.show(block='TRUE') \n",
    "\n",
    "thermalout= sr.cv2_grid_sampling(segmented_temps[0], segmented_temps2[0], output[\"Transform\"], is_binary=False)\n",
    "\n",
    "plt.figure(figsize=(10,5))\n",
    "plt.imshow(thermalout)\n",
    "plt.title('thermalout')\n",
    "plt.show(block='TRUE') \n",
    "\n"
   ]
  },
  {
   "cell_type": "code",
   "execution_count": 13,
   "metadata": {},
   "outputs": [
    {
     "name": "stdout",
     "output_type": "stream",
     "text": [
      "<class 'numpy.ndarray'>\n",
      "(539, 236)\n",
      "[[24 24 23 ... 33 34 34]\n",
      " [23 23 24 ... 34 34 34]\n",
      " [24 23 24 ... 34 34 34]\n",
      " ...\n",
      " [10 10  9 ... 16 16 16]\n",
      " [10 10 10 ... 16 16 16]\n",
      " [10 11 10 ... 16 16 16]]\n"
     ]
    }
   ],
   "source": [
    "\n",
    "print(type(fixed_imagen))\n",
    "\n",
    "print(fixed_imagen.shape)\n",
    "\n",
    "print(fixed_imagen)"
   ]
  }
 ],
 "metadata": {
  "kernelspec": {
   "display_name": "thermal",
   "language": "python",
   "name": "python3"
  },
  "language_info": {
   "codemirror_mode": {
    "name": "ipython",
    "version": 3
   },
   "file_extension": ".py",
   "mimetype": "text/x-python",
   "name": "python",
   "nbconvert_exporter": "python",
   "pygments_lexer": "ipython3",
   "version": "3.8.16"
  },
  "orig_nbformat": 4
 },
 "nbformat": 4,
 "nbformat_minor": 2
}
