{
 "cells": [
  {
   "attachments": {},
   "cell_type": "markdown",
   "metadata": {},
   "source": [
    "# Demo to test and show the functionality of the library"
   ]
  },
  {
   "cell_type": "code",
   "execution_count": 18,
   "metadata": {},
   "outputs": [],
   "source": [
    "# Importing Functions\n",
    "import numpy as np\n",
    "import matplotlib.pyplot as plt\n",
    "import matplotlib\n",
    "matplotlib.use('TKAgg') # Needed to have figures display properly. \n",
    "import flirimageextractor\n",
    "import Utils as u"
   ]
  },
  {
   "cell_type": "code",
   "execution_count": 22,
   "metadata": {},
   "outputs": [],
   "source": [
    "#filename = \"C:\\\\Users\\\\Francisco\\\\Documents\\\\dataset_termal_destino\\\\Control_Image termal C_paciente 3 (VC)_flir_control_flir_20190907T092339.jpg\"\n",
    "#filename = \"D:\\\\FLIROne\\FLIR_20230426_044637_061.jpg\"\n",
    "filename = \"D:\\\\FLIROne\\FLIR_20230426_044706_939.jpg\"\n",
    "flir = flirimageextractor.FlirImageExtractor(exiftool_path=\"C:\\\\Windows\\\\exiftool.exe\")\n",
    "flir.process_image(filename, RGB=True)"
   ]
  },
  {
   "cell_type": "code",
   "execution_count": 23,
   "metadata": {},
   "outputs": [],
   "source": [
    "therm = flir.get_thermal_np()\n",
    "rgb_fullres = flir.get_rgb_np()\n",
    "plt.figure(figsize=(10,5))\n",
    "plt.subplot(1,2,1)\n",
    "plt.imshow(therm)\n",
    "plt.title('Raw Thermal Image')\n",
    "plt.subplot(1,2,2)\n",
    "plt.imshow(rgb_fullres)\n",
    "plt.title('RGB Full Resolution Image')\n",
    "plt.show(block='TRUE') "
   ]
  },
  {
   "cell_type": "code",
   "execution_count": 24,
   "metadata": {},
   "outputs": [],
   "source": [
    "rgb_lowres, rgb_crop = u.extract_coarse_image(flir)"
   ]
  }
 ],
 "metadata": {
  "kernelspec": {
   "display_name": "thermal",
   "language": "python",
   "name": "python3"
  },
  "language_info": {
   "codemirror_mode": {
    "name": "ipython",
    "version": 3
   },
   "file_extension": ".py",
   "mimetype": "text/x-python",
   "name": "python",
   "nbconvert_exporter": "python",
   "pygments_lexer": "ipython3",
   "version": "3.8.16"
  },
  "orig_nbformat": 4
 },
 "nbformat": 4,
 "nbformat_minor": 2
}
