{
 "cells": [
  {
   "attachments": {},
   "cell_type": "markdown",
   "metadata": {},
   "source": [
    "# Demo to test and show the functionality of the library"
   ]
  },
  {
   "cell_type": "code",
   "execution_count": 1,
   "metadata": {},
   "outputs": [],
   "source": [
    "# Importing Functions\n",
    "import numpy as np\n",
    "import matplotlib.pyplot as plt\n",
    "import matplotlib\n",
    "matplotlib.use('TKAgg') # Needed to have figures display properly. \n",
    "import flirimageextractor\n",
    "import Utils as u\n",
    "import cv2\n",
    "\n",
    "DEBUG=True"
   ]
  },
  {
   "cell_type": "code",
   "execution_count": 2,
   "metadata": {},
   "outputs": [],
   "source": [
    "#filename = \"C:\\\\Users\\\\Francisco\\\\Documents\\\\dataset_termal_destino\\\\Control_Image termal C_paciente 3 (VC)_flir_control_flir_20190907T092339.jpg\"\n",
    "filename = \"C:\\\\Users\\\\Francisco\\\\Documents\\\\ThermalDataset\\\\Control\\\\Thermal-Images\\\\paciente_3\\\\flir\\\\control\\\\flir_20190907T092339.jpg\"\n",
    "#filename = \"D:\\\\FLIROne\\FLIR_20230426_044637_061.jpg\"\n",
    "#filename = \"D:\\\\FLIROne\\FLIR_20230426_044706_939.jpg\"\n",
    "flir = flirimageextractor.FlirImageExtractor(exiftool_path=\"C:\\\\Windows\\\\exiftool.exe\")\n",
    "flir.process_image(filename, RGB=True)"
   ]
  },
  {
   "cell_type": "code",
   "execution_count": 3,
   "metadata": {},
   "outputs": [],
   "source": [
    "therm = flir.get_thermal_np()\n",
    "rgb_fullres = flir.get_rgb_np()\n",
    "if DEBUG:\n",
    "    plt.figure(figsize=(10,5))\n",
    "    plt.subplot(1,2,1)\n",
    "    plt.imshow(therm)\n",
    "    plt.title('Raw Thermal Image')\n",
    "    plt.subplot(1,2,2)\n",
    "    plt.imshow(rgb_fullres)\n",
    "    plt.title('RGB Full Resolution Image')\n",
    "    plt.show(block='TRUE') "
   ]
  },
  {
   "cell_type": "code",
   "execution_count": 4,
   "metadata": {},
   "outputs": [
    {
     "name": "stdout",
     "output_type": "stream",
     "text": [
      "Image with offsetx=-1, offsety=37, pipx2=479, pipy2=639, real2ir=1.22885632514954\n"
     ]
    }
   ],
   "source": [
    "colormap_image, Imsalida,temp_img_resized,image_copy = u.extract_images(flir,plot=0)"
   ]
  },
  {
   "cell_type": "code",
   "execution_count": 5,
   "metadata": {},
   "outputs": [],
   "source": [
    "#u.save_thermal_csv(temp_img_resized,\"temperature_examples.csv\",delimiter=\";\")"
   ]
  },
  {
   "attachments": {},
   "cell_type": "markdown",
   "metadata": {},
   "source": [
    "# second part of the demo get the perspective transformation between two images"
   ]
  },
  {
   "cell_type": "code",
   "execution_count": 6,
   "metadata": {},
   "outputs": [
    {
     "name": "stdout",
     "output_type": "stream",
     "text": [
      "Image with offsetx=-1, offsety=37, pipx2=479, pipy2=639, real2ir=1.22885632514954\n"
     ]
    }
   ],
   "source": [
    "#filename2 = \"C:\\\\Users\\\\Francisco\\\\Documents\\\\dataset_termal_destino\\\\Control_Image termal C_paciente 3 (VC)_flir_control_flir_20190907T092409.jpg\"\n",
    "filename2 = \"C:\\\\Users\\\\Francisco\\\\Documents\\\\ThermalDataset\\\\Control\\\\Thermal-Images\\\\paciente_3\\\\flir\\\\control\\\\flir_20190907T093339.jpg\"\n",
    "flir2 = flirimageextractor.FlirImageExtractor(exiftool_path=\"C:\\\\Windows\\\\exiftool.exe\")\n",
    "flir2.process_image(filename2, RGB=True)\n",
    "therm2 = flir2.get_thermal_np()\n",
    "rgb_fullres2 = flir2.get_rgb_np()\n",
    "colormap_image2, Imsalida2,temp_img_resized2,image_copy2 = u.extract_images(flir2,plot=0)\n",
    "#u.save_thermal_csv(temp_img_resized2,\"temperature_examples2.csv\",delimiter=\";\")\n",
    "if DEBUG:\n",
    "    plt.figure(figsize=(10,5))\n",
    "    plt.subplot(1,2,1)\n",
    "    plt.imshow(temp_img_resized2)\n",
    "    plt.title('temp_img_resized2')\n",
    "    plt.subplot(1,2,2)\n",
    "    plt.imshow(image_copy2)\n",
    "    plt.title('image_copy2')\n",
    "    plt.show(block='TRUE') \n"
   ]
  },
  {
   "cell_type": "code",
   "execution_count": 7,
   "metadata": {},
   "outputs": [
    {
     "data": {
      "text/plain": [
       "'\\ndef fethearing_bin_to_color(binary_image, color_image):\\n    # Operación de cierre morfológico con un kernel elíptico de tamaño 5x5\\n    kernel = cv2.getStructuringElement(cv2.MORPH_ELLIPSE, (7, 7))\\n    closed_image = cv2.morphologyEx(binary_image, cv2.MORPH_CLOSE, kernel)\\n    \\n    # Fethearing usando filtro guiado\\n    filtered_image = cv2.ximgproc.guidedFilter(color_image, closed_image, 20, eps=0.1)#5, eps=1e-4\\n    \\n    # Umbralización de la imagen filtrada\\n    _, thresholded_image = cv2.threshold(filtered_image,20, 255, cv2.THRESH_BINARY)\\n    \\n    return filtered_image\\n'"
      ]
     },
     "execution_count": 7,
     "metadata": {},
     "output_type": "execute_result"
    }
   ],
   "source": [
    "\n",
    "\n",
    "\"\"\"\n",
    "def fethearing_bin_to_color(binary_image, color_image):\n",
    "    # Operación de cierre morfológico con un kernel elíptico de tamaño 5x5\n",
    "    kernel = cv2.getStructuringElement(cv2.MORPH_ELLIPSE, (7, 7))\n",
    "    closed_image = cv2.morphologyEx(binary_image, cv2.MORPH_CLOSE, kernel)\n",
    "    \n",
    "    # Fethearing usando filtro guiado\n",
    "    filtered_image = cv2.ximgproc.guidedFilter(color_image, closed_image, 20, eps=0.1)#5, eps=1e-4\n",
    "    \n",
    "    # Umbralización de la imagen filtrada\n",
    "    _, thresholded_image = cv2.threshold(filtered_image,20, 255, cv2.THRESH_BINARY)\n",
    "    \n",
    "    return filtered_image\n",
    "\"\"\"\n"
   ]
  },
  {
   "cell_type": "code",
   "execution_count": 8,
   "metadata": {},
   "outputs": [],
   "source": [
    "import registration_simpleitk as sr"
   ]
  },
  {
   "cell_type": "code",
   "execution_count": 9,
   "metadata": {},
   "outputs": [
    {
     "name": "stdout",
     "output_type": "stream",
     "text": [
      "(442, 206, 3)\n"
     ]
    }
   ],
   "source": [
    "\n",
    "segmented_Feet,segmented_temps=u.Find_feets(image_copy,temp_img_resized,percentage=20)\n",
    "if DEBUG:\n",
    "    u.plot_images_and_thermal(segmented_Feet,segmented_temps)\n",
    "segmented_Feet2,segmented_temps2=u.Find_feets(image_copy2,temp_img_resized2,percentage=20)\n",
    "print(segmented_Feet2[1].shape)\n",
    "if DEBUG:\n",
    "    u.plot_images_and_thermal(segmented_Feet2,segmented_temps2)"
   ]
  },
  {
   "cell_type": "code",
   "execution_count": 10,
   "metadata": {},
   "outputs": [
    {
     "data": {
      "text/plain": [
       "\"\\noutput_image,homography_matrix=u.matchbydescriptors(segmented_Feet[0],segmented_Feet2[0])\\nplt.figure(figsize=(10,5))\\nplt.imshow(output_image)\\nplt.title('registration between images')\\nplt.show(block='TRUE') \\n\\noutput_image,homography_matrix=u.matchbydescriptors(segmented_Feet[1],segmented_Feet2[1])\\nplt.figure(figsize=(10,5))\\nplt.imshow(output_image)\\nplt.title('registration between images')\\nplt.show(block='TRUE') \\n\""
      ]
     },
     "execution_count": 10,
     "metadata": {},
     "output_type": "execute_result"
    }
   ],
   "source": [
    "#u.visualize_descriptors(segmented_Feet[0],segmented_Feet2[0])\n",
    "#u.visualize_descriptors(segmented_Feet[1],segmented_Feet2[1])\n",
    "\n",
    "\"\"\"\n",
    "output_image,homography_matrix=u.matchbydescriptors(segmented_Feet[0],segmented_Feet2[0])\n",
    "plt.figure(figsize=(10,5))\n",
    "plt.imshow(output_image)\n",
    "plt.title('registration between images')\n",
    "plt.show(block='TRUE') \n",
    "\n",
    "output_image,homography_matrix=u.matchbydescriptors(segmented_Feet[1],segmented_Feet2[1])\n",
    "plt.figure(figsize=(10,5))\n",
    "plt.imshow(output_image)\n",
    "plt.title('registration between images')\n",
    "plt.show(block='TRUE') \n",
    "\"\"\""
   ]
  },
  {
   "cell_type": "code",
   "execution_count": 11,
   "metadata": {},
   "outputs": [
    {
     "data": {
      "text/plain": [
       "\"\\nregistered_image_a_array, registered_image_b_array, composition_image =sr.register_images(segmented_Feet[0],segmented_Feet2[0],'displaceMeth4.hdf5')\\nif DEBUG:\\n    plt.figure(figsize=(10,5))\\n    plt.subplot(1,2,1)\\n    plt.imshow(registered_image_a_array)\\n    plt.title('registered_image_a_array')\\n    plt.subplot(1,2,2)\\n    plt.imshow(registered_image_b_array)\\n    plt.title('registered_image_b_array')\\n    plt.show(block='TRUE') \\n    \\nplt.figure(figsize=(10,5))\\nplt.imshow(composition_image)\\nplt.title('composition_image')\\nplt.show(block='TRUE') \\n\""
      ]
     },
     "execution_count": 11,
     "metadata": {},
     "output_type": "execute_result"
    }
   ],
   "source": [
    "# using a different approach\n",
    "\"\"\"\n",
    "registered_image_a_array, registered_image_b_array, composition_image =sr.register_images(segmented_Feet[0],segmented_Feet2[0],'displaceMeth4.hdf5')\n",
    "if DEBUG:\n",
    "    plt.figure(figsize=(10,5))\n",
    "    plt.subplot(1,2,1)\n",
    "    plt.imshow(registered_image_a_array)\n",
    "    plt.title('registered_image_a_array')\n",
    "    plt.subplot(1,2,2)\n",
    "    plt.imshow(registered_image_b_array)\n",
    "    plt.title('registered_image_b_array')\n",
    "    plt.show(block='TRUE') \n",
    "    \n",
    "plt.figure(figsize=(10,5))\n",
    "plt.imshow(composition_image)\n",
    "plt.title('composition_image')\n",
    "plt.show(block='TRUE') \n",
    "\"\"\""
   ]
  },
  {
   "cell_type": "code",
   "execution_count": 12,
   "metadata": {},
   "outputs": [
    {
     "name": "stdout",
     "output_type": "stream",
     "text": [
      "  0 =   -1.03654 : (0.9999753169421706, -5.0744374340444914e-05, 0.5744729815772023, 1.0667365853992907)\n",
      "  1 =   -1.03920 : (0.9999702164752848, -0.00011948264503903722, 0.6472638099256308, 1.135304001548545)\n",
      "  2 =   -1.04162 : (0.9999802234049079, -0.00020615293617565103, 0.7166499862868915, 1.207314771007606)\n",
      "  3 =   -1.04385 : (0.9999970332315337, -0.0003068495952414722, 0.7821346863485935, 1.282890849467933)\n",
      "  4 =   -1.04618 : (1.0000043566043704, -0.00041131895813448373, 0.8438159982836622, 1.3616017431897627)\n",
      "  5 =   -1.04856 : (0.9999938858328509, -0.0005150499469524735, 0.9017283476128957, 1.4431256594684458)\n",
      "  6 =   -1.05095 : (0.9999629081872006, -0.0006142620764821063, 0.9571268627397826, 1.5263782493325149)\n",
      "  7 =   -1.05335 : (0.9999154409034293, -0.0007063998781490092, 1.0118813873828436, 1.6100557928468588)\n",
      "  8 =   -1.05564 : (0.9998582551182142, -0.0007938445923980868, 1.06611974817678, 1.694068823393285)\n",
      "  9 =   -1.05771 : (0.9997877649930514, -0.0008771233030000513, 1.1185226622101367, 1.7792387869755903)\n",
      " 10 =   -1.05979 : (0.9997091944387533, -0.000958126193227501, 1.1701580460809302, 1.8648762460558057)\n",
      " 11 =   -1.06181 : (0.9996269484286716, -0.0010411153277649933, 1.2204162393507538, 1.9513291254621645)\n",
      " 12 =   -1.06366 : (0.9995527558537216, -0.0011311342224847067, 1.2708894705984604, 2.037656637412156)\n",
      " 13 =   -1.06548 : (0.9994865121792932, -0.001229571189506878, 1.3226075819696528, 2.123244153313344)\n",
      " 14 =   -1.06728 : (0.9994196389593183, -0.001335205683962531, 1.3743561241648905, 2.2088132642704745)\n",
      " 15 =   -1.06882 : (0.9993530204495257, -0.0014497601085726995, 1.4266111591865518, 2.294074004087479)\n",
      " 16 =   -1.07013 : (0.9992896739220262, -0.0015744276207410026, 1.480653675800239, 2.3782130963293624)\n",
      " 17 =   -1.07120 : (0.9992330127463359, -0.0017078691713641573, 1.536966540694736, 2.460849893400872)\n",
      " 18 =   -1.07276 : (0.9991884392595116, -0.0018485278076112407, 1.596151648966928, 2.5414544912049752)\n",
      " 19 =   -1.07387 : (0.9991565067441894, -0.0019959296980164866, 1.6587123611900527, 2.619468172948196)\n",
      " 20 =   -1.07510 : (0.9991379677387532, -0.0021493324653898195, 1.7246911418440383, 2.6946132102248486)\n",
      " 21 =   -1.07630 : (0.9991299103455914, -0.0023080062722369028, 1.7931417965127405, 2.7675137083927455)\n",
      " 22 =   -1.07730 : (0.9991257148281484, -0.0024688888729730656, 1.8634232205350825, 2.8386508684188403)\n",
      " 23 =   -1.07831 : (0.9991190503054057, -0.0026266901632427285, 1.9352274128516656, 2.90825067459745)\n",
      " 24 =   -1.07926 : (0.9991130843255777, -0.0027728477825895233, 2.0099028941930768, 2.97476045650046)\n",
      " 25 =   -1.08015 : (0.9990953742397871, -0.002883799029921288, 2.086870403701428, 3.0386039358562678)\n",
      " 26 =   -1.08076 : (0.9990736954505705, -0.0029537181486379662, 2.1684529700485653, 3.0964336817450566)\n",
      " 27 =   -1.08163 : (0.9990611500768132, -0.002985350442193582, 2.254691890700492, 3.1470582548968604)\n",
      " 28 =   -1.08204 : (0.9990553859716458, -0.0030009689033591237, 2.343023612763612, 3.1939358252285492)\n",
      " 29 =   -1.08269 : (0.9990486464833955, -0.0030321562910619417, 2.4297993537236056, 3.2436346155837503)\n",
      " 30 =   -1.08309 : (0.9990644051734308, -0.0030801362842079838, 2.517746885283748, 3.2912290390182424)\n",
      " 31 =   -1.08349 : (0.9991456753806632, -0.0031206953590939266, 2.6127492776545, 3.3224466173027376)\n",
      " 32 =   -1.08394 : (0.9993230385998128, -0.003132153395657771, 2.7125430332266958, 3.3288633734769055)\n",
      " 33 =   -1.08496 : (0.9995709475466723, -0.003078923747898336, 2.811473413085807, 3.314278598926346)\n",
      " 34 =   -1.08626 : (0.9998719725544221, -0.0029959678575747803, 2.909520148855759, 3.294612890011533)\n",
      " 35 =   -1.08755 : (1.0002646904528227, -0.0029163292350555007, 3.006476766238789, 3.270133229556723)\n",
      " 36 =   -1.08853 : (1.0008395885879116, -0.002895132950981811, 3.103463032805798, 3.2457747989782795)\n",
      " 37 =   -1.08901 : (1.0015457537929047, -0.0033190926962673316, 3.134836843942455, 3.3407221821101962)\n",
      " 38 =   -1.08994 : (1.0021676383240388, -0.004173563375660114, 3.128408414485162, 3.440509748641306)\n",
      " 39 =   -1.09167 : (1.002492920042581, -0.004502354138594269, 3.228025651286345, 3.4492385641700487)\n",
      " 40 =   -1.09249 : (1.0026599981446676, -0.005197099343076345, 3.2132433891627596, 3.4969981091900575)\n",
      " 41 =   -1.09389 : (1.0027601548243605, -0.005277913966151169, 3.235745250768452, 3.486105466631225)\n",
      " 42 =   -1.09349 : (1.0028655268118851, -0.005412795633404335, 3.260741109186818, 3.485683844040437)\n",
      " 43 =   -1.09356 : (1.0030073414932879, -0.0056678304493697805, 3.2827835684635005, 3.4974755714318997)\n",
      " 44 =   -1.09390 : (1.0032831423882558, -0.006158346662780213, 3.295044546055546, 3.5192551893394315)\n",
      " 45 =   -1.09467 : (1.0036416341971495, -0.006602063862611243, 3.3096495422524503, 3.5395374151728536)\n",
      " 46 =   -1.09520 : (1.003784603555385, -0.0068128056187856355, 3.3071898960775625, 3.5644148203504273)\n",
      " 47 =   -1.09523 : (1.004153783121918, -0.007141304636807154, 3.3232298651562906, 3.583584462673545)\n",
      " 48 =   -1.09552 : (1.0042460527500172, -0.007285577367265618, 3.3157977490092083, 3.6074535707689734)\n",
      " 49 =   -1.09582 : (1.004562043064329, -0.007558161673991416, 3.3334044665265616, 3.6251970018402493)\n",
      " 50 =   -1.09593 : (1.0046342370738275, -0.007680879479313016, 3.322352021485314, 3.6476207211342344)\n",
      " 51 =   -1.09617 : (1.0049204607108884, -0.007912769967909789, 3.3416723188282718, 3.6634823229893616)\n",
      " 52 =   -1.09621 : (1.0049743279323942, -0.008018497015064385, 3.328951075256748, 3.6850033797038426)\n",
      " 53 =   -1.09647 : (1.0052434089279527, -0.008239590217104437, 3.346156837582798, 3.703137338344838)\n",
      " 54 =   -1.09663 : (1.0053090939159393, -0.008364073003465864, 3.334892169525096, 3.7254552110720502)\n",
      " 55 =   -1.09688 : (1.0054265229982335, -0.008455721842440178, 3.3466979846214633, 3.729560152096149)\n",
      " 56 =   -1.09692 : (1.0054939407567525, -0.00854803949323817, 3.3445359187666894, 3.7418712204306526)\n",
      " 57 =   -1.09705 : (1.0056116432092148, -0.008669220892332352, 3.350788987573092, 3.752693447174886)\n",
      " 58 =   -1.09715 : (1.0057048130759227, -0.008782386631475838, 3.351966513296217, 3.7651369975550146)\n",
      " 59 =   -1.09728 : (1.0058219871129355, -0.008905733470397562, 3.3581450225868643, 3.7760019448051287)\n",
      " 60 =   -1.09738 : (1.0059148444581678, -0.009019119741569168, 3.3594789870215496, 3.7884296984216896)\n",
      " 61 =   -1.09750 : (1.0060321626045392, -0.009143395253155518, 3.3654878680663063, 3.7993893581171236)\n",
      " 62 =   -1.09756 : (1.0061252910701486, -0.009255805157792844, 3.3690443524879177, 3.8113718499139524)\n",
      " 63 =   -1.09762 : (1.006238277687565, -0.009382136100246689, 3.3742655851090246, 3.8227279057624215)\n",
      " 64 =   -1.09768 : (1.0063397826996299, -0.009503518673158205, 3.3779688277105024, 3.8346657010881136)\n",
      " 65 =   -1.09775 : (1.0064515876326972, -0.009632164064135031, 3.3830722396603274, 3.846075176820622)\n",
      " 66 =   -1.09779 : (1.0065545646983252, -0.009755707651492439, 3.386679346981602, 3.858042336445144)\n",
      " 67 =   -1.09786 : (1.0066639012565923, -0.00988121732302084, 3.3912036269562393, 3.8696936532613013)\n",
      " 68 =   -1.09790 : (1.006767547990999, -0.010002007650238617, 3.3946652824591204, 3.8817037160517565)\n",
      " 69 =   -1.09795 : (1.0068724770186153, -0.01012013499727041, 3.3982347263913097, 3.8936822011748426)\n",
      " 70 =   -1.09798 : (1.0069741599653037, -0.010233271704126285, 3.401553581191234, 3.905732597993244)\n",
      " 71 =   -1.09799 : (1.0070766863771938, -0.01034475798665237, 3.405045729048388, 3.917733929689662)\n",
      " 72 =   -1.09799 : (1.0071767050153149, -0.010452234188105699, 3.4079938074590403, 3.92988042213904)\n",
      " 73 =   -1.09801 : (1.007273321745792, -0.01055450787997598, 3.411064814859182, 3.9419964907608174)\n",
      " 74 =   -1.09802 : (1.007367646938017, -0.010653704670770188, 3.4135761739611987, 3.9542408502057014)\n",
      " 75 =   -1.09804 : (1.007461513411102, -0.010751015596651009, 3.415570931396956, 3.966579920772054)\n",
      " 76 =   -1.09765 : (1.0075496740324545, -0.010842094766621188, 3.4180411957598134, 3.978832746008188)\n",
      " 77 =   -1.09768 : (1.0076378418691392, -0.010933136380016983, 3.419754443009202, 3.991214132106669)\n",
      " 78 =   -1.09771 : (1.0077256332957871, -0.01102307428553122, 3.4212150545057445, 4.003627867156795)\n",
      " 79 =   -1.09773 : (1.0078157390831337, -0.01111161476344369, 3.4230321854024437, 4.015994438097647)\n",
      " 80 =   -1.09773 : (1.007905987495544, -0.011197505560602927, 3.4248609433206103, 4.028359312640956)\n",
      " 81 =   -1.09772 : (1.007994950552233, -0.011281041458028534, 3.4263465430898785, 4.040770118442914)\n",
      " 82 =   -1.09771 : (1.008083454651755, -0.011363387143191713, 3.4281929333922436, 4.053132409050396)\n",
      " 83 =   -1.09771 : (1.0081703490836396, -0.011444931356134266, 3.4300960613800497, 4.065486109053272)\n",
      " 84 =   -1.09773 : (1.0082571227365167, -0.011526590469398551, 3.432231870372089, 4.077801713872846)\n",
      " 85 =   -1.09773 : (1.008341656108775, -0.011606834858846664, 3.4342381751347575, 4.090139102419302)\n",
      " 86 =   -1.09774 : (1.0084255766521557, -0.011686375424016342, 3.436418456013487, 4.1024469456881585)\n",
      " 87 =   -1.09775 : (1.0085035398464584, -0.011762054941530126, 3.4382449191295357, 4.114812309687519)\n",
      " 88 =   -1.09778 : (1.0085842758006343, -0.011839491397818752, 3.440035534001585, 4.127182887025741)\n",
      " 89 =   -1.09780 : (1.0086641079633516, -0.011916612282398221, 3.4414015217901683, 4.139607530141598)\n",
      " 90 =   -1.09783 : (1.0087484500356592, -0.011996045080369345, 3.442721378861258, 4.152037113970405)\n",
      " 91 =   -1.09784 : (1.0088328900256227, -0.012075582061039676, 3.443649104185446, 4.164502099709653)\n",
      " 92 =   -1.09784 : (1.0089195146333718, -0.012156354010603996, 3.444994109898157, 4.176928963018721)\n",
      " 93 =   -1.09784 : (1.0090042404332369, -0.012238786691452215, 3.4447608657184383, 4.189426227661217)\n",
      " 94 =   -1.09785 : (1.0090948567481184, -0.012323171250125848, 3.4480453502300437, 4.201486361550306)\n",
      " 95 =   -1.09787 : (1.0091496775800675, -0.012386981263119422, 3.4418940239389686, 4.212367726713711)\n",
      " 96 =   -1.09786 : (1.009180335363371, -0.012407139195440807, 3.4479520543285704, 4.2139044184709435)\n",
      " 97 =   -1.09786 : (1.009194432665864, -0.01242299968916134, 3.446484344968793, 4.2166632232748436)\n",
      " 98 =   -1.09786 : (1.0092156611927323, -0.012443741434766196, 3.4464495353953573, 4.219787888444623)\n",
      "-------\n",
      "itk::simple::Similarity2DTransform\n",
      " Similarity2DTransform (0000021AEEE4C3C0)\n",
      "   RTTI typeinfo:   class itk::Similarity2DTransform<double>\n",
      "   Reference Count: 3\n",
      "   Modified Time: 4464\n",
      "   Debug: Off\n",
      "   Object Name: \n",
      "   Observers: \n",
      "     none\n",
      "   Matrix: \n",
      "     1.00914 0.0125581 \n",
      "     -0.0125581 1.00914 \n",
      "   Offset: [-0.278044, 3.47846]\n",
      "   Center: [102.5, 222]\n",
      "   Translation: [3.44645, 4.21979]\n",
      "   Inverse: \n",
      "     0.990792 -0.0123298 \n",
      "     0.0123298 0.990792 \n",
      "   Singular: 0\n",
      "   Angle       = -0.0124437\n",
      "   Scale =1.00922\n",
      "\n",
      "Optimizer stop condition: RegularStepGradientDescentOptimizerv4: Gradient magnitude tolerance met after 99 iterations. Gradient magnitude (9.58026e-05) is less than gradient magnitude tolerance (0.0001).\n",
      "Iteration: 100\n",
      "Metric value: -1.0978606657900998\n"
     ]
    }
   ],
   "source": [
    "# using a different approach\n",
    "output =sr.register_images_Similarity2DTransform(segmented_Feet[0],segmented_Feet2[0],'displaceMeth4_advanced.hdf5')\n",
    "fixed_imagen = sr.sitk_image_to_opencv(output[\"fixed\"])\n",
    "moving_imagen = sr.sitk_image_to_opencv(output[\"moving\"])\n",
    "composition_image = sr.sitk_image_to_opencv(output[\"composition\"])\n",
    "if DEBUG:\n",
    "    plt.figure(figsize=(10,5))\n",
    "    plt.subplot(1,2,1)\n",
    "    plt.imshow(fixed_imagen)\n",
    "    plt.title('fixed_imagen')\n",
    "    plt.subplot(1,2,2)\n",
    "    plt.imshow(moving_imagen)\n",
    "    plt.title('moving_imagen')\n",
    "    plt.show(block='TRUE') \n",
    "\n",
    "plt.figure(figsize=(10,5))\n",
    "plt.imshow(composition_image)\n",
    "plt.title('composition_image')\n",
    "plt.show(block='TRUE') \n",
    "\n",
    "thermalout= sr.cv2_grid_sampling(segmented_temps[0], segmented_temps2[0], output[\"Transform\"], is_binary=False)\n",
    "\n",
    "plt.figure(figsize=(10,5))\n",
    "plt.imshow(thermalout)\n",
    "plt.title('thermalout')\n",
    "plt.show(block='TRUE') \n",
    "\n"
   ]
  },
  {
   "cell_type": "code",
   "execution_count": 13,
   "metadata": {},
   "outputs": [
    {
     "name": "stdout",
     "output_type": "stream",
     "text": [
      "<class 'numpy.ndarray'>\n",
      "(445, 206)\n",
      "[[45 44 44 ... 39 40 40]\n",
      " [45 45 45 ... 39 40 40]\n",
      " [43 43 43 ... 40 40 40]\n",
      " ...\n",
      " [18 17 18 ... 13 13 13]\n",
      " [17 16 17 ... 13 13 13]\n",
      " [16 16 16 ... 13 13 13]]\n"
     ]
    }
   ],
   "source": [
    "\n",
    "print(type(fixed_imagen))\n",
    "\n",
    "print(fixed_imagen.shape)\n",
    "\n",
    "print(fixed_imagen)"
   ]
  }
 ],
 "metadata": {
  "kernelspec": {
   "display_name": "thermal",
   "language": "python",
   "name": "python3"
  },
  "language_info": {
   "codemirror_mode": {
    "name": "ipython",
    "version": 3
   },
   "file_extension": ".py",
   "mimetype": "text/x-python",
   "name": "python",
   "nbconvert_exporter": "python",
   "pygments_lexer": "ipython3",
   "version": "3.8.16"
  },
  "orig_nbformat": 4
 },
 "nbformat": 4,
 "nbformat_minor": 2
}
