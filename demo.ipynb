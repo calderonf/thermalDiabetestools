{
 "cells": [
  {
   "attachments": {},
   "cell_type": "markdown",
   "metadata": {},
   "source": [
    "# Demo to test and show the functionality of the library"
   ]
  },
  {
   "cell_type": "code",
   "execution_count": 1,
   "metadata": {},
   "outputs": [],
   "source": [
    "# Importing Functions\n",
    "import numpy as np\n",
    "import matplotlib.pyplot as plt\n",
    "import matplotlib\n",
    "matplotlib.use('TKAgg') # Needed to have figures display properly. \n",
    "import flirimageextractor\n",
    "import Utils as u\n",
    "import cv2\n",
    "\n",
    "DEBUG=False"
   ]
  },
  {
   "cell_type": "code",
   "execution_count": 2,
   "metadata": {},
   "outputs": [],
   "source": [
    "filename = \"C:\\\\Users\\\\Francisco\\\\Documents\\\\dataset_termal_destino\\\\Control_Image termal C_paciente 3 (VC)_flir_control_flir_20190907T092339.jpg\"\n",
    "#filename = \"D:\\\\FLIROne\\FLIR_20230426_044637_061.jpg\"\n",
    "#filename = \"D:\\\\FLIROne\\FLIR_20230426_044706_939.jpg\"\n",
    "flir = flirimageextractor.FlirImageExtractor(exiftool_path=\"C:\\\\Windows\\\\exiftool.exe\")\n",
    "flir.process_image(filename, RGB=True)"
   ]
  },
  {
   "cell_type": "code",
   "execution_count": 3,
   "metadata": {},
   "outputs": [],
   "source": [
    "therm = flir.get_thermal_np()\n",
    "rgb_fullres = flir.get_rgb_np()\n",
    "if DEBUG:\n",
    "    plt.figure(figsize=(10,5))\n",
    "    plt.subplot(1,2,1)\n",
    "    plt.imshow(therm)\n",
    "    plt.title('Raw Thermal Image')\n",
    "    plt.subplot(1,2,2)\n",
    "    plt.imshow(rgb_fullres)\n",
    "    plt.title('RGB Full Resolution Image')\n",
    "    plt.show(block='TRUE') "
   ]
  },
  {
   "cell_type": "code",
   "execution_count": 4,
   "metadata": {},
   "outputs": [
    {
     "name": "stdout",
     "output_type": "stream",
     "text": [
      "Image with offsetx=-1, offsety=37, pipx2=479, pipy2=639, real2ir=1.22885632514954\n"
     ]
    }
   ],
   "source": [
    "colormap_image, Imsalida,temp_img_resized,image_copy = u.extract_images(flir,plot=0)"
   ]
  },
  {
   "cell_type": "code",
   "execution_count": 5,
   "metadata": {},
   "outputs": [],
   "source": [
    "#u.save_thermal_csv(temp_img_resized,\"temperature_examples.csv\",delimiter=\";\")"
   ]
  },
  {
   "attachments": {},
   "cell_type": "markdown",
   "metadata": {},
   "source": [
    "# second part of the demo get the perspective transformation between two images"
   ]
  },
  {
   "cell_type": "code",
   "execution_count": 6,
   "metadata": {},
   "outputs": [
    {
     "name": "stdout",
     "output_type": "stream",
     "text": [
      "Image with offsetx=-1, offsety=37, pipx2=479, pipy2=639, real2ir=1.22885632514954\n"
     ]
    }
   ],
   "source": [
    "filename2 = \"C:\\\\Users\\\\Francisco\\\\Documents\\\\dataset_termal_destino\\\\Control_Image termal C_paciente 3 (VC)_flir_control_flir_20190907T092409.jpg\"\n",
    "flir2 = flirimageextractor.FlirImageExtractor(exiftool_path=\"C:\\\\Windows\\\\exiftool.exe\")\n",
    "flir2.process_image(filename2, RGB=True)\n",
    "therm2 = flir2.get_thermal_np()\n",
    "rgb_fullres2 = flir2.get_rgb_np()\n",
    "colormap_image2, Imsalida2,temp_img_resized2,image_copy2 = u.extract_images(flir2,plot=0)\n",
    "#u.save_thermal_csv(temp_img_resized2,\"temperature_examples2.csv\",delimiter=\";\")\n",
    "if DEBUG:\n",
    "    plt.figure(figsize=(10,5))\n",
    "    plt.subplot(1,2,1)\n",
    "    plt.imshow(temp_img_resized2)\n",
    "    plt.title('temp_img_resized2')\n",
    "    plt.subplot(1,2,2)\n",
    "    plt.imshow(image_copy2)\n",
    "    plt.title('image_copy2')\n",
    "    plt.show(block='TRUE') \n"
   ]
  },
  {
   "cell_type": "code",
   "execution_count": 7,
   "metadata": {},
   "outputs": [
    {
     "data": {
      "text/plain": [
       "'\\ndef fethearing_bin_to_color(binary_image, color_image):\\n    # Operación de cierre morfológico con un kernel elíptico de tamaño 5x5\\n    kernel = cv2.getStructuringElement(cv2.MORPH_ELLIPSE, (7, 7))\\n    closed_image = cv2.morphologyEx(binary_image, cv2.MORPH_CLOSE, kernel)\\n    \\n    # Fethearing usando filtro guiado\\n    filtered_image = cv2.ximgproc.guidedFilter(color_image, closed_image, 20, eps=0.1)#5, eps=1e-4\\n    \\n    # Umbralización de la imagen filtrada\\n    _, thresholded_image = cv2.threshold(filtered_image,20, 255, cv2.THRESH_BINARY)\\n    \\n    return filtered_image\\n'"
      ]
     },
     "execution_count": 7,
     "metadata": {},
     "output_type": "execute_result"
    }
   ],
   "source": [
    "\n",
    "\n",
    "\"\"\"\n",
    "def fethearing_bin_to_color(binary_image, color_image):\n",
    "    # Operación de cierre morfológico con un kernel elíptico de tamaño 5x5\n",
    "    kernel = cv2.getStructuringElement(cv2.MORPH_ELLIPSE, (7, 7))\n",
    "    closed_image = cv2.morphologyEx(binary_image, cv2.MORPH_CLOSE, kernel)\n",
    "    \n",
    "    # Fethearing usando filtro guiado\n",
    "    filtered_image = cv2.ximgproc.guidedFilter(color_image, closed_image, 20, eps=0.1)#5, eps=1e-4\n",
    "    \n",
    "    # Umbralización de la imagen filtrada\n",
    "    _, thresholded_image = cv2.threshold(filtered_image,20, 255, cv2.THRESH_BINARY)\n",
    "    \n",
    "    return filtered_image\n",
    "\"\"\"\n"
   ]
  },
  {
   "cell_type": "code",
   "execution_count": 8,
   "metadata": {},
   "outputs": [],
   "source": [
    "import registration_simpleitk as sr"
   ]
  },
  {
   "cell_type": "code",
   "execution_count": 9,
   "metadata": {},
   "outputs": [
    {
     "name": "stdout",
     "output_type": "stream",
     "text": [
      "(441, 204, 3)\n"
     ]
    }
   ],
   "source": [
    "segmented_Feet2,segmented_temps2=u.Find_feets(image_copy2,temp_img_resized2,percentage=20)\n",
    "print(segmented_Feet2[1].shape)\n",
    "if DEBUG:\n",
    "    u.plot_images_and_thermal(segmented_Feet2,segmented_temps2)\n",
    "segmented_Feet,segmented_temps=u.Find_feets(image_copy,temp_img_resized,percentage=20)\n",
    "if DEBUG:\n",
    "    u.plot_images_and_thermal(segmented_Feet,segmented_temps)\n"
   ]
  },
  {
   "cell_type": "code",
   "execution_count": 10,
   "metadata": {},
   "outputs": [
    {
     "data": {
      "text/plain": [
       "\"\\noutput_image,homography_matrix=u.matchbydescriptors(segmented_Feet[0],segmented_Feet2[0])\\nplt.figure(figsize=(10,5))\\nplt.imshow(output_image)\\nplt.title('registration between images')\\nplt.show(block='TRUE') \\n\\noutput_image,homography_matrix=u.matchbydescriptors(segmented_Feet[1],segmented_Feet2[1])\\nplt.figure(figsize=(10,5))\\nplt.imshow(output_image)\\nplt.title('registration between images')\\nplt.show(block='TRUE') \\n\""
      ]
     },
     "execution_count": 10,
     "metadata": {},
     "output_type": "execute_result"
    }
   ],
   "source": [
    "#u.visualize_descriptors(segmented_Feet[0],segmented_Feet2[0])\n",
    "#u.visualize_descriptors(segmented_Feet[1],segmented_Feet2[1])\n",
    "\n",
    "\"\"\"\n",
    "output_image,homography_matrix=u.matchbydescriptors(segmented_Feet[0],segmented_Feet2[0])\n",
    "plt.figure(figsize=(10,5))\n",
    "plt.imshow(output_image)\n",
    "plt.title('registration between images')\n",
    "plt.show(block='TRUE') \n",
    "\n",
    "output_image,homography_matrix=u.matchbydescriptors(segmented_Feet[1],segmented_Feet2[1])\n",
    "plt.figure(figsize=(10,5))\n",
    "plt.imshow(output_image)\n",
    "plt.title('registration between images')\n",
    "plt.show(block='TRUE') \n",
    "\"\"\""
   ]
  },
  {
   "cell_type": "code",
   "execution_count": 11,
   "metadata": {},
   "outputs": [
    {
     "name": "stdout",
     "output_type": "stream",
     "text": [
      "  0 =   -1.15621 : (-0.2289803080446606, -0.44448624110063556)\n",
      "  1 =   -1.18144 : (-0.4609793312485472, -0.8874043523045493)\n",
      "  2 =   -1.19330 : (-0.9166324520064172, -0.681539752279159)\n",
      "  3 =   -1.19062 : (-0.7817573792395652, -0.8920361055638095)\n",
      "  4 =   -1.19219 : (-0.6868501636292976, -0.8106873475824722)\n",
      "  5 =   -1.19278 : (-0.590082666187128, -0.889814153652095)\n",
      "  6 =   -1.19334 : (-0.5664777718912027, -0.8319430990109518)\n",
      "  7 =   -1.19333 : (-0.5642483176615282, -0.8631134701001414)\n",
      "  8 =   -1.19338 : (-0.5563369265500226, -0.84963940183251)\n",
      "  9 =   -1.19339 : (-0.556429023761788, -0.8574513589722788)\n",
      "-------\n",
      "itk::simple::TranslationTransform\n",
      " TranslationTransform (000001848DF37830)\n",
      "   RTTI typeinfo:   class itk::TranslationTransform<double,2>\n",
      "   Reference Count: 2\n",
      "   Modified Time: 20531\n",
      "   Debug: Off\n",
      "   Object Name: \n",
      "   Observers: \n",
      "     none\n",
      "   Offset: [-0.556429, -0.857451]\n",
      "\n",
      "Optimizer stop condition: RegularStepGradientDescentOptimizerv4: Gradient magnitude tolerance met after 10 iterations. Gradient magnitude (5.78488e-05) is less than gradient magnitude tolerance (0.0001).\n",
      " Iteration: 11\n",
      " Metric value: -1.1934088700262366\n"
     ]
    }
   ],
   "source": [
    "# using a different approach\n",
    "registered_image_a_array, registered_image_b_array, composition_image =sr.register_images(segmented_Feet[0],segmented_Feet2[0],'displaceMeth4.hdf5')\n",
    "if DEBUG:\n",
    "    plt.figure(figsize=(10,5))\n",
    "    plt.subplot(1,2,1)\n",
    "    plt.imshow(registered_image_a_array)\n",
    "    plt.title('registered_image_a_array')\n",
    "    plt.subplot(1,2,2)\n",
    "    plt.imshow(registered_image_b_array)\n",
    "    plt.title('registered_image_b_array')\n",
    "    plt.show(block='TRUE') \n",
    "    \n",
    "plt.figure(figsize=(10,5))\n",
    "plt.imshow(composition_image)\n",
    "plt.title('composition_image')\n",
    "plt.show(block='TRUE') \n"
   ]
  },
  {
   "cell_type": "code",
   "execution_count": 12,
   "metadata": {},
   "outputs": [
    {
     "name": "stdout",
     "output_type": "stream",
     "text": [
      "  0 =   -1.18712 : (0.9988617177801171, 0.0003563966385609195, -1.099609511610336, -0.5087477135169298)\n",
      "  1 =   -1.19015 : (0.997330001746463, 0.0008698446840783218, -1.0942575255143294, -0.5584341951988214)\n",
      "  2 =   -1.19618 : (0.9971108499566993, 0.0009682151618311212, -1.0590011492093128, -0.5938874069797194)\n",
      "  3 =   -1.19867 : (0.9968908303538213, 0.0010813195633493158, -1.0288649748664278, -0.6337841461289775)\n",
      "  4 =   -1.20106 : (0.9966654843860195, 0.0011852849372778061, -0.9922932400967068, -0.6678788176529707)\n",
      "  5 =   -1.20396 : (0.9964396449484639, 0.0012770868871260221, -0.9528237825652517, -0.6985725057846226)\n",
      "  6 =   -1.20653 : (0.9961948508633904, 0.0013764164364051988, -0.9156864182721576, -0.732050056215599)\n",
      "  7 =   -1.20839 : (0.995892212760326, 0.001540184374604116, -0.8990105212615724, -0.779185987829744)\n",
      "  8 =   -1.20926 : (0.9958831198621334, 0.0015855313530696111, -0.923719732153602, -0.7829876661517425)\n",
      "  9 =   -1.20942 : (0.9958147128127952, 0.0016588900231014859, -0.9485988548717693, -0.7854410702675585)\n",
      " 10 =   -1.20955 : (0.9956133622329352, 0.0017932194448101266, -0.9734352499412576, -0.7825959176349654)\n",
      " 11 =   -1.20983 : (0.9955282558915228, 0.001867068682517036, -0.9981752805317949, -0.779001729328822)\n",
      " 12 =   -1.20993 : (0.9953072655174661, 0.001996889178187142, -1.0217549757721416, -0.7706991825950873)\n",
      " 13 =   -1.21018 : (0.9952542955528828, 0.002053112149066443, -1.046709466450451, -0.7691933844191797)\n",
      " 14 =   -1.21024 : (0.9949427298937125, 0.0022068385420705647, -1.0689071744900245, -0.7576981222287826)\n",
      " 15 =   -1.21051 : (0.9949502913952994, 0.0022355349985723662, -1.0937625341759563, -0.760383306434761)\n",
      " 16 =   -1.21054 : (0.9947811727766568, 0.002313033238890748, -1.118117402150038, -0.7547436434234969)\n",
      " 17 =   -1.21067 : (0.9947108211083098, 0.002354045082593411, -1.143017745178324, -0.7569721599132534)\n",
      " 18 =   -1.21070 : (0.9945649547808739, 0.002372129801208841, -1.1343802156161467, -0.7479376992752306)\n",
      " 19 =   -1.21073 : (0.9945736323837349, 0.0023761739807657578, -1.1404058905520333, -0.7495971117950242)\n",
      " 20 =   -1.21077 : (0.9945798587405891, 0.002380358406063763, -1.1464645673692193, -0.7511316732789535)\n",
      " 21 =   -1.21077 : (0.9945812740413017, 0.002384830415896252, -1.152589938832814, -0.7523735679729716)\n",
      " 22 =   -1.21078 : (0.9945705432454737, 0.0023903653915583424, -1.1588083209381939, -0.7530013244588456)\n"
     ]
    },
    {
     "name": "stdout",
     "output_type": "stream",
     "text": [
      " 23 =   -1.21078 : (0.9945232053353834, 0.002399045333651023, -1.1649754131347572, -0.7519878366098993)\n",
      " 24 =   -1.21079 : (0.9945040022665125, 0.0024041031895930248, -1.171203606216349, -0.7525091010328665)\n",
      " 25 =   -1.21080 : (0.9944119267964593, 0.002411464576951669, -1.176678277135202, -0.7494954742729549)\n",
      " 26 =   -1.21083 : (0.9944221101493609, 0.0024140164027080945, -1.1826274739841778, -0.7514110542477007)\n",
      " 27 =   -1.21083 : (0.9944135927158525, 0.0024151798208489057, -1.18881984186396, -0.7522578163992092)\n",
      " 28 =   -1.21083 : (0.9943939674777202, 0.002413330545255802, -1.1860160020391757, -0.7508780632810167)\n",
      " 29 =   -1.21083 : (0.9943953136717818, 0.0024137718978603415, -1.1875194252849184, -0.751303648510001)\n",
      " 30 =   -1.21083 : (0.9943943118813995, 0.0024140042628181288, -1.18904969726627, -0.751619358591425)\n",
      "-------\n",
      "itk::simple::Similarity2DTransform\n",
      " Similarity2DTransform (000001848DE86BC0)\n",
      "   RTTI typeinfo:   class itk::Similarity2DTransform<double>\n",
      "   Reference Count: 3\n",
      "   Modified Time: 23427\n",
      "   Debug: Off\n",
      "   Object Name: \n",
      "   Observers: \n",
      "     none\n",
      "   Matrix: \n",
      "     0.994391 -0.00240047 \n",
      "     0.00240047 0.994391 \n",
      "   Offset: [0.302104, -0.709644]\n",
      "   Center: [222, 102.5]\n",
      "   Translation: [-1.18905, -0.751619]\n",
      "   Inverse: \n",
      "     1.00563 0.00242761 \n",
      "     -0.00242761 1.00563 \n",
      "   Singular: 0\n",
      "   Angle       = 0.002414\n",
      "   Scale =0.994394\n",
      "\n",
      "Optimizer stop condition: RegularStepGradientDescentOptimizerv4: Gradient magnitude tolerance met after 31 iterations. Gradient magnitude (5.82929e-05) is less than gradient magnitude tolerance (0.0001).\n",
      "Iteration: 32\n",
      "Metric value: -1.2108320245935484\n"
     ]
    }
   ],
   "source": [
    "# using a different approach\n",
    "output =sr.register_images_Similarity2DTransform(segmented_Feet[0],segmented_Feet2[0],'displaceMeth4_advanced.hdf5')\n",
    "fixed_imagen = sr.sitk_image_to_opencv(output[\"fixed\"])\n",
    "moving_imagen = sr.sitk_image_to_opencv(output[\"moving\"])\n",
    "composition_image = sr.sitk_image_to_opencv(output[\"composition\"])\n",
    "if DEBUG:\n",
    "    plt.figure(figsize=(10,5))\n",
    "    plt.subplot(1,2,1)\n",
    "    plt.imshow(fixed_imagen)\n",
    "    plt.title('fixed_imagen')\n",
    "    plt.subplot(1,2,2)\n",
    "    plt.imshow(moving_imagen)\n",
    "    plt.title('moving_imagen')\n",
    "    plt.show(block='TRUE') \n",
    "\n",
    "plt.figure(figsize=(10,5))\n",
    "plt.imshow(composition_image)\n",
    "plt.title('composition_image')\n",
    "plt.show(block='TRUE') \n"
   ]
  },
  {
   "cell_type": "code",
   "execution_count": 13,
   "metadata": {},
   "outputs": [
    {
     "name": "stdout",
     "output_type": "stream",
     "text": [
      "<class 'numpy.ndarray'>\n",
      "(206, 445)\n",
      "[[40 40 40 ... 13 13 13]\n",
      " [40 40 40 ... 13 13 13]\n",
      " [39 39 40 ... 13 13 13]\n",
      " ...\n",
      " [44 45 43 ... 18 17 16]\n",
      " [44 45 43 ... 17 16 16]\n",
      " [45 45 43 ... 18 17 16]]\n"
     ]
    }
   ],
   "source": [
    "\n",
    "print(type(fixed_imagen))\n",
    "\n",
    "print(fixed_imagen.shape)\n",
    "\n",
    "print(fixed_imagen)"
   ]
  }
 ],
 "metadata": {
  "kernelspec": {
   "display_name": "thermal",
   "language": "python",
   "name": "python3"
  },
  "language_info": {
   "codemirror_mode": {
    "name": "ipython",
    "version": 3
   },
   "file_extension": ".py",
   "mimetype": "text/x-python",
   "name": "python",
   "nbconvert_exporter": "python",
   "pygments_lexer": "ipython3",
   "version": "3.8.16"
  },
  "orig_nbformat": 4
 },
 "nbformat": 4,
 "nbformat_minor": 2
}
