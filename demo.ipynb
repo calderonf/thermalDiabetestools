{
 "cells": [
  {
   "attachments": {},
   "cell_type": "markdown",
   "metadata": {},
   "source": [
    "# Demo to test and show the functionality of the library"
   ]
  },
  {
   "cell_type": "code",
   "execution_count": 1,
   "metadata": {},
   "outputs": [],
   "source": [
    "# Importing Functions\n",
    "import numpy as np\n",
    "import matplotlib.pyplot as plt\n",
    "import matplotlib\n",
    "matplotlib.use('TKAgg') # Needed to have figures display properly. \n",
    "import flirimageextractor\n",
    "import Utils as u\n",
    "import cv2\n",
    "\n",
    "DEBUG=true"
   ]
  },
  {
   "cell_type": "code",
   "execution_count": 2,
   "metadata": {},
   "outputs": [],
   "source": [
    "filename = \"C:\\\\Users\\\\Francisco\\\\Documents\\\\dataset_termal_destino\\\\Control_Image termal C_paciente 3 (VC)_flir_control_flir_20190907T092339.jpg\"\n",
    "#filename = \"D:\\\\FLIROne\\FLIR_20230426_044637_061.jpg\"\n",
    "#filename = \"D:\\\\FLIROne\\FLIR_20230426_044706_939.jpg\"\n",
    "flir = flirimageextractor.FlirImageExtractor(exiftool_path=\"C:\\\\Windows\\\\exiftool.exe\")\n",
    "flir.process_image(filename, RGB=True)"
   ]
  },
  {
   "cell_type": "code",
   "execution_count": 3,
   "metadata": {},
   "outputs": [],
   "source": [
    "therm = flir.get_thermal_np()\n",
    "rgb_fullres = flir.get_rgb_np()\n",
    "if DEBUG:\n",
    "    plt.figure(figsize=(10,5))\n",
    "    plt.subplot(1,2,1)\n",
    "    plt.imshow(therm)\n",
    "    plt.title('Raw Thermal Image')\n",
    "    plt.subplot(1,2,2)\n",
    "    plt.imshow(rgb_fullres)\n",
    "    plt.title('RGB Full Resolution Image')\n",
    "    plt.show(block='TRUE') "
   ]
  },
  {
   "cell_type": "code",
   "execution_count": 4,
   "metadata": {},
   "outputs": [
    {
     "name": "stdout",
     "output_type": "stream",
     "text": [
      "Image with offsetx=-1, offsety=37, pipx2=479, pipy2=639, real2ir=1.22885632514954\n"
     ]
    }
   ],
   "source": [
    "colormap_image, Imsalida,temp_img_resized,image_copy = u.extract_images(flir,plot=0)"
   ]
  },
  {
   "cell_type": "code",
   "execution_count": 5,
   "metadata": {},
   "outputs": [],
   "source": [
    "#u.save_thermal_csv(temp_img_resized,\"temperature_examples.csv\",delimiter=\";\")"
   ]
  },
  {
   "attachments": {},
   "cell_type": "markdown",
   "metadata": {},
   "source": [
    "# second part of the demo get the perspective transformation between two images"
   ]
  },
  {
   "cell_type": "code",
   "execution_count": 6,
   "metadata": {},
   "outputs": [
    {
     "name": "stdout",
     "output_type": "stream",
     "text": [
      "Image with offsetx=-1, offsety=37, pipx2=479, pipy2=639, real2ir=1.22885632514954\n"
     ]
    }
   ],
   "source": [
    "filename2 = \"C:\\\\Users\\\\Francisco\\\\Documents\\\\dataset_termal_destino\\\\Control_Image termal C_paciente 3 (VC)_flir_control_flir_20190907T092409.jpg\"\n",
    "flir2 = flirimageextractor.FlirImageExtractor(exiftool_path=\"C:\\\\Windows\\\\exiftool.exe\")\n",
    "flir2.process_image(filename2, RGB=True)\n",
    "therm2 = flir2.get_thermal_np()\n",
    "rgb_fullres2 = flir2.get_rgb_np()\n",
    "colormap_image2, Imsalida2,temp_img_resized2,image_copy2 = u.extract_images(flir2,plot=0)\n",
    "#u.save_thermal_csv(temp_img_resized2,\"temperature_examples2.csv\",delimiter=\";\")\n",
    "if DEBUG:\n",
    "    plt.figure(figsize=(10,5))\n",
    "    plt.subplot(1,2,1)\n",
    "    plt.imshow(temp_img_resized2)\n",
    "    plt.title('temp_img_resized2')\n",
    "    plt.subplot(1,2,2)\n",
    "    plt.imshow(image_copy2)\n",
    "    plt.title('image_copy2')\n",
    "    plt.show(block='TRUE') \n"
   ]
  },
  {
   "cell_type": "code",
   "execution_count": 7,
   "metadata": {},
   "outputs": [
    {
     "data": {
      "text/plain": [
       "'\\ndef fethearing_bin_to_color(binary_image, color_image):\\n    # Operación de cierre morfológico con un kernel elíptico de tamaño 5x5\\n    kernel = cv2.getStructuringElement(cv2.MORPH_ELLIPSE, (7, 7))\\n    closed_image = cv2.morphologyEx(binary_image, cv2.MORPH_CLOSE, kernel)\\n    \\n    # Fethearing usando filtro guiado\\n    filtered_image = cv2.ximgproc.guidedFilter(color_image, closed_image, 20, eps=0.1)#5, eps=1e-4\\n    \\n    # Umbralización de la imagen filtrada\\n    _, thresholded_image = cv2.threshold(filtered_image,20, 255, cv2.THRESH_BINARY)\\n    \\n    return filtered_image\\n'"
      ]
     },
     "execution_count": 7,
     "metadata": {},
     "output_type": "execute_result"
    }
   ],
   "source": [
    "\n",
    "\n",
    "\"\"\"\n",
    "def fethearing_bin_to_color(binary_image, color_image):\n",
    "    # Operación de cierre morfológico con un kernel elíptico de tamaño 5x5\n",
    "    kernel = cv2.getStructuringElement(cv2.MORPH_ELLIPSE, (7, 7))\n",
    "    closed_image = cv2.morphologyEx(binary_image, cv2.MORPH_CLOSE, kernel)\n",
    "    \n",
    "    # Fethearing usando filtro guiado\n",
    "    filtered_image = cv2.ximgproc.guidedFilter(color_image, closed_image, 20, eps=0.1)#5, eps=1e-4\n",
    "    \n",
    "    # Umbralización de la imagen filtrada\n",
    "    _, thresholded_image = cv2.threshold(filtered_image,20, 255, cv2.THRESH_BINARY)\n",
    "    \n",
    "    return filtered_image\n",
    "\"\"\"\n"
   ]
  },
  {
   "cell_type": "code",
   "execution_count": 8,
   "metadata": {},
   "outputs": [
    {
     "data": {
      "text/plain": [
       "'\\ndef register_images(image_a, image_b):\\n    # Convertir las imágenes a escala de grises\\n    image_a_gray = np.dot(image_a, [0.2989, 0.5870, 0.1140]).astype(np.uint8)\\n    image_b_gray = np.dot(image_b, [0.2989, 0.5870, 0.1140]).astype(np.uint8)\\n\\n    # Crear imágenes ITK a partir de las imágenes en escala de grises\\n    itk_image_a = itk.GetImageFromArray(image_a_gray)\\n    itk_image_b = itk.GetImageFromArray(image_b_gray)\\n\\n    # Definir tipos de imágenes\\n    ImageType = itk.Image[itk.UC, 2]\\n\\n    # Crear un objeto de registro de imágenes\\n    registration_filter = itk.ImageRegistrationMethod[ImageType, ImageType].New()\\n\\n    # Configurar los parámetros de registro\\n    optimizer = itk.RegularStepGradientDescentOptimizer.New()\\n    metric = itk.MeanSquaresImageToImageMetric[ImageType, ImageType].New()\\n    interpolator = itk.LinearInterpolateImageFunction[ImageType, itk.D].New()\\n\\n    registration_filter.SetOptimizer(optimizer)\\n    registration_filter.SetMetric(metric)\\n    registration_filter.SetInterpolator(interpolator)\\n\\n    transform = itk.IdentityTransform[itk.D, 2].New()\\n    registration_filter.SetInitialTransform(transform)\\n\\n    # Configurar las imágenes de entrada para el registro\\n    registration_filter.SetFixedImage(itk_image_a)\\n    registration_filter.SetMovingImage(itk_image_b)\\n\\n    # Definir la región de muestreo\\n    region_size = itk.ImageRegion[2]()\\n    region_size.SetSize([32, 32])\\n\\n    fixed_image_sampler = itk.RegionOfInterestImageFilter[ImageType, ImageType].New()\\n    fixed_image_sampler.SetInput(itk_image_a)\\n    fixed_image_sampler.SetRegionOfInterest(region_size)\\n\\n    moving_image_sampler = itk.RegionOfInterestImageFilter[ImageType, ImageType].New()\\n    moving_image_sampler.SetInput(itk_image_b)\\n    moving_image_sampler.SetRegionOfInterest(region_size)\\n\\n    registration_filter.SetFixedImageRegion(fixed_image_sampler.GetOutput().GetLargestPossibleRegion())\\n\\n    # Realizar el registro de las imágenes\\n    registration_filter.Update()\\n\\n    # Obtener las imágenes registradas\\n    registered_image_a = itk.ResampleImageFilter[ImageType, ImageType].New()\\n    registered_image_a.SetInput(itk_image_b)\\n    registered_image_a.SetSize(itk_image_a.GetLargestPossibleRegion().GetSize())\\n    registered_image_a.SetOutputSpacing(itk_image_a.GetSpacing())\\n    registered_image_a.SetOutputOrigin(itk_image_a.GetOrigin())\\n    registered_image_a.SetOutputDirection(itk_image_a.GetDirection())\\n    registered_image_a.SetTransform(registration_filter.GetTransform())\\n\\n    registered_image_a.Update()\\n\\n    registered_image_a_array = itk.GetArrayFromImage(registered_image_a)\\n    registered_image_b_array = image_b\\n\\n    return registered_image_a_array, registered_image_b_array\\ndef register_images(image_a, image_b):\\n    # Convertir las imágenes a formato ITK\\n    itk_image_a = itk.GetImageFromArray(image_a)\\n    itk_image_b = itk.GetImageFromArray(image_b)\\n\\n    # Definir los tipos de imágenes y transformaciones\\n    PixelType = itk.UC\\n    Dimension = 2\\n    ImageType = itk.Image[PixelType, Dimension]\\n    TransformType = itk.TranslationTransform[itk.D, Dimension]\\n\\n    # Crear un registrador de imágenes\\n    registration_filter = itk.ImageRegistrationMethod.New(ImageType, ImageType)\\n\\n    # Configurar los parámetros del registrador\\n    optimizer = itk.RegularStepGradientDescentOptimizerv4.New()\\n    metric = itk.MeanSquaresImageToImageMetricv4.New(ImageType, ImageType)\\n    interpolator = itk.LinearInterpolateImageFunction.New(ImageType, itk.D)\\n\\n    registration_filter.SetOptimizer(optimizer)\\n    registration_filter.SetMetric(metric)\\n    registration_filter.SetInterpolator(interpolator)\\n\\n    # Definir las transformaciones iniciales y estimar la transformación final\\n    initial_transform = TransformType.New()\\n    identity_transform = TransformType.New()\\n    identity_transform.SetIdentity()\\n\\n    registration_filter.SetMovingInitialTransform(initial_transform)\\n    registration_filter.SetFixedInitialTransform(identity_transform)\\n    registration_filter.SetMovingImage(itk_image_b)\\n    registration_filter.SetFixedImage(itk_image_a)\\n\\n    registration_filter.Update()\\n\\n    # Obtener la imagen registrada\\n    registered_image = itk.GetArrayFromImage(registration_filter.GetOutput())\\n\\n    return registered_image\\n'"
      ]
     },
     "execution_count": 8,
     "metadata": {},
     "output_type": "execute_result"
    }
   ],
   "source": [
    "import SimpleITK as sitk\n",
    "import numpy as np\n",
    "import sys\n",
    "\n",
    "def sitk_image_to_opencv(image, force_8bits=True):\n",
    "    image_np = sitk.GetArrayFromImage(image)\n",
    "    return image_np.astype(np.uint8)\n",
    "\n",
    "def command_iteration(method):\n",
    "    print(\n",
    "        f\"{method.GetOptimizerIteration():3} \"\n",
    "        + f\"= {method.GetMetricValue():10.5f} \"\n",
    "        + f\": {method.GetOptimizerPosition()}\"\n",
    "    )\n",
    "\n",
    "# tomado de https://simpleitk.readthedocs.io/en/master/link_ImageRegistrationMethod4_docs.html\n",
    "\n",
    "def register_images(fixed_image_np, moving_image_np, output_transform_file,\n",
    "                    number_of_bins=24, sampling_percentage=0.10):\n",
    "    \n",
    "        # Convertir las imágenes a escala de grises\n",
    "    image_a_gray = np.dot(fixed_image_np, [0.2989, 0.5870, 0.1140]).astype(np.float32)\n",
    "    image_b_gray = np.dot(moving_image_np, [0.2989, 0.5870, 0.1140]).astype(np.float32)\n",
    "\n",
    "    fixed = sitk.GetImageFromArray(image_a_gray.astype(np.float32))\n",
    "    moving = sitk.GetImageFromArray(image_b_gray.astype(np.float32))\n",
    "\n",
    "    # Convertir imágenes a escala de grises si son multicanal\n",
    "    if fixed.GetNumberOfComponentsPerPixel() > 1:\n",
    "        fixed = sitk.Cast(sitk.RescaleIntensity(fixed), sitk.sitkFloat32)\n",
    "    if moving.GetNumberOfComponentsPerPixel() > 1:\n",
    "        moving = sitk.Cast(sitk.RescaleIntensity(moving), sitk.sitkFloat32)\n",
    "\n",
    "    # Verificar el tamaño de las imágenes\n",
    "    \n",
    "    if fixed.GetSize()[0] < 4 or moving.GetSize()[0] < 4:\n",
    "        print(fixed.GetSize())\n",
    "        print(moving.GetSize())\n",
    "        raise ValueError(\"Las imágenes en la dirección 0 deben tener al menos 4 píxeles\")\n",
    "\n",
    "    R = sitk.ImageRegistrationMethod()\n",
    "    R.SetMetricAsMattesMutualInformation(number_of_bins)\n",
    "    R.SetMetricSamplingPercentage(sampling_percentage, sitk.sitkWallClock)\n",
    "    R.SetMetricSamplingStrategy(R.RANDOM)\n",
    "    R.SetOptimizerAsRegularStepGradientDescent(0.5, 0.001, 400)\n",
    "    R.SetInitialTransform(sitk.TranslationTransform(fixed.GetDimension()))\n",
    "    R.SetInterpolator(sitk.sitkLinear)\n",
    "\n",
    "    R.AddCommand(sitk.sitkIterationEvent, lambda: command_iteration(R))\n",
    "\n",
    "    outTx = R.Execute(fixed, moving)\n",
    "\n",
    "    print(\"-------\")\n",
    "    print(outTx)\n",
    "    print(f\"Optimizer stop condition: {R.GetOptimizerStopConditionDescription()}\")\n",
    "    print(f\" Iteration: {R.GetOptimizerIteration()}\")\n",
    "    print(f\" Metric value: {R.GetMetricValue()}\")\n",
    "\n",
    "    sitk.WriteTransform(outTx, output_transform_file)\n",
    "\n",
    "    resampler = sitk.ResampleImageFilter()\n",
    "    resampler.SetReferenceImage(fixed)\n",
    "    resampler.SetInterpolator(sitk.sitkLinear)\n",
    "    resampler.SetDefaultPixelValue(100)\n",
    "    resampler.SetTransform(outTx)\n",
    "\n",
    "    out = resampler.Execute(moving)\n",
    "\n",
    "    fixed_np = sitk.GetArrayFromImage(fixed)\n",
    "    moving_np = sitk.GetArrayFromImage(out)\n",
    "\n",
    "\n",
    "\n",
    "    simg1 = sitk.Cast(sitk.RescaleIntensity(fixed), sitk.sitkUInt8)\n",
    "    simg2 = sitk.Cast(sitk.RescaleIntensity(out), sitk.sitkUInt8)\n",
    "    cimg = sitk.Compose(simg1, simg2, simg1 // 2.0 + simg2 // 2.0)\n",
    "\n",
    "\n",
    "    return fixed_np, moving_np, sitk_image_to_opencv(cimg)\n",
    "\n",
    "def register_images_Similarity2DTransform(fixed_image, moving_image, output_transform_file, numberOfBins=24, samplingPercentage=0.10):\n",
    "    \n",
    "        \n",
    "        # Convertir las imágenes a escala de grises\n",
    "    image_a_gray = np.dot(fixed_image, [0.2989, 0.5870, 0.1140]).astype(np.float32)\n",
    "    image_b_gray = np.dot(moving_image, [0.2989, 0.5870, 0.1140]).astype(np.float32)\n",
    "\n",
    "    fixed_image = sitk.GetImageFromArray(image_a_gray.astype(np.float32))\n",
    "    moving_image = sitk.GetImageFromArray(image_b_gray.astype(np.float32))\n",
    "\n",
    "    # Convertir imágenes a escala de grises si son multicanal\n",
    "    if fixed_image.GetNumberOfComponentsPerPixel() > 1:\n",
    "        fixed_image = sitk.Cast(sitk.RescaleIntensity(fixed_image), sitk.sitkFloat32)\n",
    "    if moving_image.GetNumberOfComponentsPerPixel() > 1:\n",
    "        moving_image = sitk.Cast(sitk.RescaleIntensity(moving_image), sitk.sitkFloat32)\n",
    "\n",
    "    # Verificar el tamaño de las imágenes\n",
    "    \n",
    "    if fixed_image.GetSize()[0] < 4 or moving_image.GetSize()[0] < 4:\n",
    "        print(fixed_image.GetSize())\n",
    "        print(moving_image.GetSize())\n",
    "        raise ValueError(\"Las imágenes en la dirección 0 deben tener al menos 4 píxeles\")\n",
    "\n",
    "    \n",
    "    \n",
    "    R = sitk.ImageRegistrationMethod()\n",
    "\n",
    "    R.SetMetricAsMattesMutualInformation(numberOfBins)\n",
    "    R.SetMetricSamplingPercentage(samplingPercentage, sitk.sitkWallClock)\n",
    "    R.SetMetricSamplingStrategy(R.RANDOM)\n",
    "    R.SetOptimizerAsRegularStepGradientDescent(1.0, 0.001, 200)\n",
    "\n",
    "    initial_transform = sitk.CenteredTransformInitializer(fixed_image, moving_image, sitk.Similarity2DTransform())\n",
    "    R.SetInitialTransform(initial_transform)\n",
    "\n",
    "    R.SetInterpolator(sitk.sitkLinear)\n",
    "\n",
    "    R.AddCommand(sitk.sitkIterationEvent, lambda: command_iteration(R))\n",
    "\n",
    "    outTx = R.Execute(fixed_image, moving_image)\n",
    "\n",
    "    print(\"-------\")\n",
    "    print(outTx)\n",
    "    print(f\"Optimizer stop condition: {R.GetOptimizerStopConditionDescription()}\")\n",
    "    print(f\"Iteration: {R.GetOptimizerIteration()}\")\n",
    "    print(f\"Metric value: {R.GetMetricValue()}\")\n",
    "\n",
    "    sitk.WriteTransform(outTx, output_transform_file)\n",
    "\n",
    "    resampler = sitk.ResampleImageFilter()\n",
    "    resampler.SetReferenceImage(fixed_image)\n",
    "    resampler.SetInterpolator(sitk.sitkLinear)\n",
    "    resampler.SetDefaultPixelValue(100)\n",
    "    resampler.SetTransform(outTx)\n",
    "\n",
    "    out = resampler.Execute(moving_image)\n",
    "    simg1 = sitk.Cast(sitk.RescaleIntensity(fixed_image), sitk.sitkUInt8)\n",
    "    simg2 = sitk.Cast(sitk.RescaleIntensity(out), sitk.sitkUInt8)\n",
    "    cimg = sitk.Compose(simg1, simg2, simg1 // 2.0 + simg2 // 2.0)\n",
    "\n",
    "    return {\n",
    "        \"fixed\": fixed_image,\n",
    "        \"moving\": moving_image,\n",
    "        \"composition\": cimg\n",
    "    }   \n",
    "    \n",
    "\"\"\"\n",
    "def register_images(image_a, image_b):\n",
    "    # Convertir las imágenes a escala de grises\n",
    "    image_a_gray = np.dot(image_a, [0.2989, 0.5870, 0.1140]).astype(np.uint8)\n",
    "    image_b_gray = np.dot(image_b, [0.2989, 0.5870, 0.1140]).astype(np.uint8)\n",
    "\n",
    "    # Crear imágenes ITK a partir de las imágenes en escala de grises\n",
    "    itk_image_a = itk.GetImageFromArray(image_a_gray)\n",
    "    itk_image_b = itk.GetImageFromArray(image_b_gray)\n",
    "\n",
    "    # Definir tipos de imágenes\n",
    "    ImageType = itk.Image[itk.UC, 2]\n",
    "\n",
    "    # Crear un objeto de registro de imágenes\n",
    "    registration_filter = itk.ImageRegistrationMethod[ImageType, ImageType].New()\n",
    "\n",
    "    # Configurar los parámetros de registro\n",
    "    optimizer = itk.RegularStepGradientDescentOptimizer.New()\n",
    "    metric = itk.MeanSquaresImageToImageMetric[ImageType, ImageType].New()\n",
    "    interpolator = itk.LinearInterpolateImageFunction[ImageType, itk.D].New()\n",
    "\n",
    "    registration_filter.SetOptimizer(optimizer)\n",
    "    registration_filter.SetMetric(metric)\n",
    "    registration_filter.SetInterpolator(interpolator)\n",
    "\n",
    "    transform = itk.IdentityTransform[itk.D, 2].New()\n",
    "    registration_filter.SetInitialTransform(transform)\n",
    "\n",
    "    # Configurar las imágenes de entrada para el registro\n",
    "    registration_filter.SetFixedImage(itk_image_a)\n",
    "    registration_filter.SetMovingImage(itk_image_b)\n",
    "\n",
    "    # Definir la región de muestreo\n",
    "    region_size = itk.ImageRegion[2]()\n",
    "    region_size.SetSize([32, 32])\n",
    "\n",
    "    fixed_image_sampler = itk.RegionOfInterestImageFilter[ImageType, ImageType].New()\n",
    "    fixed_image_sampler.SetInput(itk_image_a)\n",
    "    fixed_image_sampler.SetRegionOfInterest(region_size)\n",
    "\n",
    "    moving_image_sampler = itk.RegionOfInterestImageFilter[ImageType, ImageType].New()\n",
    "    moving_image_sampler.SetInput(itk_image_b)\n",
    "    moving_image_sampler.SetRegionOfInterest(region_size)\n",
    "\n",
    "    registration_filter.SetFixedImageRegion(fixed_image_sampler.GetOutput().GetLargestPossibleRegion())\n",
    "\n",
    "    # Realizar el registro de las imágenes\n",
    "    registration_filter.Update()\n",
    "\n",
    "    # Obtener las imágenes registradas\n",
    "    registered_image_a = itk.ResampleImageFilter[ImageType, ImageType].New()\n",
    "    registered_image_a.SetInput(itk_image_b)\n",
    "    registered_image_a.SetSize(itk_image_a.GetLargestPossibleRegion().GetSize())\n",
    "    registered_image_a.SetOutputSpacing(itk_image_a.GetSpacing())\n",
    "    registered_image_a.SetOutputOrigin(itk_image_a.GetOrigin())\n",
    "    registered_image_a.SetOutputDirection(itk_image_a.GetDirection())\n",
    "    registered_image_a.SetTransform(registration_filter.GetTransform())\n",
    "\n",
    "    registered_image_a.Update()\n",
    "\n",
    "    registered_image_a_array = itk.GetArrayFromImage(registered_image_a)\n",
    "    registered_image_b_array = image_b\n",
    "\n",
    "    return registered_image_a_array, registered_image_b_array\n",
    "def register_images(image_a, image_b):\n",
    "    # Convertir las imágenes a formato ITK\n",
    "    itk_image_a = itk.GetImageFromArray(image_a)\n",
    "    itk_image_b = itk.GetImageFromArray(image_b)\n",
    "\n",
    "    # Definir los tipos de imágenes y transformaciones\n",
    "    PixelType = itk.UC\n",
    "    Dimension = 2\n",
    "    ImageType = itk.Image[PixelType, Dimension]\n",
    "    TransformType = itk.TranslationTransform[itk.D, Dimension]\n",
    "\n",
    "    # Crear un registrador de imágenes\n",
    "    registration_filter = itk.ImageRegistrationMethod.New(ImageType, ImageType)\n",
    "\n",
    "    # Configurar los parámetros del registrador\n",
    "    optimizer = itk.RegularStepGradientDescentOptimizerv4.New()\n",
    "    metric = itk.MeanSquaresImageToImageMetricv4.New(ImageType, ImageType)\n",
    "    interpolator = itk.LinearInterpolateImageFunction.New(ImageType, itk.D)\n",
    "\n",
    "    registration_filter.SetOptimizer(optimizer)\n",
    "    registration_filter.SetMetric(metric)\n",
    "    registration_filter.SetInterpolator(interpolator)\n",
    "\n",
    "    # Definir las transformaciones iniciales y estimar la transformación final\n",
    "    initial_transform = TransformType.New()\n",
    "    identity_transform = TransformType.New()\n",
    "    identity_transform.SetIdentity()\n",
    "\n",
    "    registration_filter.SetMovingInitialTransform(initial_transform)\n",
    "    registration_filter.SetFixedInitialTransform(identity_transform)\n",
    "    registration_filter.SetMovingImage(itk_image_b)\n",
    "    registration_filter.SetFixedImage(itk_image_a)\n",
    "\n",
    "    registration_filter.Update()\n",
    "\n",
    "    # Obtener la imagen registrada\n",
    "    registered_image = itk.GetArrayFromImage(registration_filter.GetOutput())\n",
    "\n",
    "    return registered_image\n",
    "\"\"\"\n"
   ]
  },
  {
   "cell_type": "code",
   "execution_count": 9,
   "metadata": {},
   "outputs": [
    {
     "name": "stdout",
     "output_type": "stream",
     "text": [
      "(441, 204, 3)\n"
     ]
    }
   ],
   "source": [
    "segmented_Feet2,segmented_temps2=u.Find_feets(image_copy2,temp_img_resized2,percentage=20)\n",
    "print(segmented_Feet2[1].shape)\n",
    "if DEBUG:\n",
    "    u.plot_images_and_thermal(segmented_Feet2,segmented_temps2)\n",
    "segmented_Feet,segmented_temps=u.Find_feets(image_copy,temp_img_resized,percentage=20)\n",
    "if DEBUG:\n",
    "    u.plot_images_and_thermal(segmented_Feet,segmented_temps)\n"
   ]
  },
  {
   "cell_type": "code",
   "execution_count": 10,
   "metadata": {},
   "outputs": [
    {
     "data": {
      "text/plain": [
       "\"\\noutput_image,homography_matrix=u.matchbydescriptors(segmented_Feet[0],segmented_Feet2[0])\\nplt.figure(figsize=(10,5))\\nplt.imshow(output_image)\\nplt.title('registration between images')\\nplt.show(block='TRUE') \\n\\noutput_image,homography_matrix=u.matchbydescriptors(segmented_Feet[1],segmented_Feet2[1])\\nplt.figure(figsize=(10,5))\\nplt.imshow(output_image)\\nplt.title('registration between images')\\nplt.show(block='TRUE') \\n\""
      ]
     },
     "execution_count": 10,
     "metadata": {},
     "output_type": "execute_result"
    }
   ],
   "source": [
    "#u.visualize_descriptors(segmented_Feet[0],segmented_Feet2[0])\n",
    "#u.visualize_descriptors(segmented_Feet[1],segmented_Feet2[1])\n",
    "\n",
    "\"\"\"\n",
    "output_image,homography_matrix=u.matchbydescriptors(segmented_Feet[0],segmented_Feet2[0])\n",
    "plt.figure(figsize=(10,5))\n",
    "plt.imshow(output_image)\n",
    "plt.title('registration between images')\n",
    "plt.show(block='TRUE') \n",
    "\n",
    "output_image,homography_matrix=u.matchbydescriptors(segmented_Feet[1],segmented_Feet2[1])\n",
    "plt.figure(figsize=(10,5))\n",
    "plt.imshow(output_image)\n",
    "plt.title('registration between images')\n",
    "plt.show(block='TRUE') \n",
    "\"\"\""
   ]
  },
  {
   "cell_type": "code",
   "execution_count": 11,
   "metadata": {},
   "outputs": [
    {
     "name": "stdout",
     "output_type": "stream",
     "text": [
      "  0 =   -1.15376 : (-0.26354799637605875, -0.4249028754976423)\n",
      "  1 =   -1.17568 : (-0.5493762076481952, -0.8351494277573426)\n",
      "  2 =   -1.18581 : (-1.045167812764034, -0.8998849226319477)\n",
      "  3 =   -1.19082 : (-1.0723113474944264, -0.6513628340314774)\n",
      "  4 =   -1.19051 : (-1.0872170322705998, -0.7754709343366282)\n",
      "  5 =   -1.19135 : (-1.0918992754687136, -0.9003832099488902)\n",
      "  6 =   -1.19090 : (-1.0849754375839202, -0.8382679101512952)\n",
      "  7 =   -1.19130 : (-1.0805588421018382, -0.7759241559785823)\n",
      "  8 =   -1.19133 : (-1.0878267471434853, -0.8063172482251044)\n",
      "  9 =   -1.19135 : (-1.0858249082938252, -0.7908210142884348)\n",
      "-------\n",
      "itk::simple::TranslationTransform\n",
      " TranslationTransform (0000023DA135B6D0)\n",
      "   RTTI typeinfo:   class itk::TranslationTransform<double,2>\n",
      "   Reference Count: 2\n",
      "   Modified Time: 20531\n",
      "   Debug: Off\n",
      "   Object Name: \n",
      "   Observers: \n",
      "     none\n",
      "   Offset: [-1.08582, -0.790821]\n",
      "\n",
      "Optimizer stop condition: RegularStepGradientDescentOptimizerv4: Gradient magnitude tolerance met after 10 iterations. Gradient magnitude (7.86378e-05) is less than gradient magnitude tolerance (0.0001).\n",
      " Iteration: 11\n",
      " Metric value: -1.1913436717370485\n"
     ]
    }
   ],
   "source": [
    "# using a different approach\n",
    "registered_image_a_array, registered_image_b_array, composition_image =register_images(segmented_Feet[0],segmented_Feet2[0],'displaceMeth4.hdf5')\n",
    "if DEBUG:\n",
    "    plt.figure(figsize=(10,5))\n",
    "    plt.subplot(1,2,1)\n",
    "    plt.imshow(registered_image_a_array)\n",
    "    plt.title('registered_image_a_array')\n",
    "    plt.subplot(1,2,2)\n",
    "    plt.imshow(registered_image_b_array)\n",
    "    plt.title('registered_image_b_array')\n",
    "    plt.show(block='TRUE') \n",
    "    \n",
    "plt.figure(figsize=(10,5))\n",
    "plt.imshow(composition_image)\n",
    "plt.title('composition_image')\n",
    "plt.show(block='TRUE') \n"
   ]
  },
  {
   "cell_type": "code",
   "execution_count": 12,
   "metadata": {},
   "outputs": [
    {
     "name": "stdout",
     "output_type": "stream",
     "text": [
      "  0 =   -1.18809 : (0.01590953059412137, 0.17724557846697167, -0.29417318528592595, -1.3062772696034124)\n",
      "  1 =   -0.00204 : (0.5159062677949771, 0.17861454554016515, -0.29509502274367044, -1.3055431488010603)\n",
      "  2 =   -0.13737 : (0.9310814450683073, 0.4572329804982702, -0.2939987936077246, -1.3059148465769466)\n",
      "  3 =   -0.28748 : (1.3305938867857743, 0.1566203653854759, -0.29847406457855785, -1.3045596721482824)\n",
      "  4 =   -0.27400 : (1.1724825525879419, 0.3502681433239908, -0.29960857516138684, -1.3047983840968682)\n",
      "  5 =   -0.28845 : (0.9785307492476378, 0.19259133205777768, -0.2991852908068798, -1.3093307124519502)\n",
      "  6 =   -0.52619 : (1.1067854513199684, -0.021997616605314685, -0.30034460290786186, -1.3083455711123857)\n",
      "  7 =   -0.65926 : (0.9819989338893178, -0.029296639016045168, -0.30013958914985095, -1.3084310622617918)\n",
      "  8 =   -1.01737 : (1.0162278977010892, 0.02299675849813954, -0.30018406537092257, -1.3082678609699572)\n",
      "  9 =   -1.06530 : (0.9948970158321728, 0.0001592054326879297, -0.3002197770707004, -1.3082383084487106)\n"
     ]
    },
    {
     "name": "stdout",
     "output_type": "stream",
     "text": [
      " 10 =   -1.18138 : (1.008271803038363, 0.008234978085639956, -0.3003777074405622, -1.3081258529231112)\n",
      " 11 =   -1.14120 : (1.0014233834397903, 0.004475730085305204, -0.30040273109908516, -1.3080842171166769)\n",
      " 12 =   -1.17932 : (0.9944124242833766, 0.0010292549781012097, -0.3004154399056595, -1.3080271576848763)\n",
      " 13 =   -1.17994 : (0.9981001546784226, 0.002316527756054485, -0.30045555066440466, -1.3079997074002343)\n",
      " 14 =   -1.19067 : (0.9963190147505736, 0.0015168381686597918, -0.3004819448307985, -1.307954566123779)\n",
      "-------\n",
      "itk::simple::Similarity2DTransform\n",
      " Similarity2DTransform (0000023DA121FA30)\n",
      "   RTTI typeinfo:   class itk::Similarity2DTransform<double>\n",
      "   Reference Count: 3\n",
      "   Modified Time: 39813\n",
      "   Debug: Off\n",
      "   Object Name: \n",
      "   Observers: \n",
      "     none\n",
      "   Matrix: \n",
      "     0.996318 -0.00151125 \n",
      "     0.00151125 0.996318 \n",
      "   Offset: [0.562521, -1.23171]\n",
      "   Center: [193.314, 100.048]\n",
      "   Translation: [-0.300482, -1.30795]\n",
      "   Inverse: \n",
      "     1.00369 0.00152244 \n",
      "     -0.00152244 1.00369 \n",
      "   Singular: 0\n",
      "   Angle       = 0.00151684\n",
      "   Scale =0.996319\n",
      "\n",
      "Optimizer stop condition: RegularStepGradientDescentOptimizerv4: Step too small after 15 iterations. Current step (0.000976562) is less than minimum step (0.001).\n",
      "Iteration: 16\n",
      "Metric value: -1.1880590558171986\n"
     ]
    }
   ],
   "source": [
    "# using a different approach\n",
    "output =register_images_Similarity2DTransform(segmented_Feet[0],segmented_Feet2[0],'displaceMeth4_advanced.hdf5')\n",
    "fixed_imagen = sitk_image_to_opencv(output[\"fixed\"])\n",
    "moving_imagen = sitk_image_to_opencv(output[\"moving\"])\n",
    "composition_image = sitk_image_to_opencv(output[\"composition\"])\n",
    "if DEBUG:\n",
    "    plt.figure(figsize=(10,5))\n",
    "    plt.subplot(1,2,1)\n",
    "    plt.imshow(fixed_imagen)\n",
    "    plt.title('fixed_imagen')\n",
    "    plt.subplot(1,2,2)\n",
    "    plt.imshow(moving_imagen)\n",
    "    plt.title('moving_imagen')\n",
    "    plt.show(block='TRUE') \n",
    "\n",
    "plt.figure(figsize=(10,5))\n",
    "plt.imshow(composition_image)\n",
    "plt.title('composition_image')\n",
    "plt.show(block='TRUE') \n"
   ]
  },
  {
   "cell_type": "code",
   "execution_count": 13,
   "metadata": {},
   "outputs": [
    {
     "name": "stdout",
     "output_type": "stream",
     "text": [
      "<class 'numpy.ndarray'>\n",
      "(206, 445)\n",
      "[[40 40 40 ... 13 13 13]\n",
      " [40 40 40 ... 13 13 13]\n",
      " [39 39 40 ... 13 13 13]\n",
      " ...\n",
      " [44 45 43 ... 18 17 16]\n",
      " [44 45 43 ... 17 16 16]\n",
      " [45 45 43 ... 18 17 16]]\n"
     ]
    }
   ],
   "source": [
    "\n",
    "print(type(fixed_imagen))\n",
    "\n",
    "print(fixed_imagen.shape)\n",
    "\n",
    "print(fixed_imagen)"
   ]
  }
 ],
 "metadata": {
  "kernelspec": {
   "display_name": "thermal",
   "language": "python",
   "name": "python3"
  },
  "language_info": {
   "codemirror_mode": {
    "name": "ipython",
    "version": 3
   },
   "file_extension": ".py",
   "mimetype": "text/x-python",
   "name": "python",
   "nbconvert_exporter": "python",
   "pygments_lexer": "ipython3",
   "version": "3.8.16"
  },
  "orig_nbformat": 4
 },
 "nbformat": 4,
 "nbformat_minor": 2
}
