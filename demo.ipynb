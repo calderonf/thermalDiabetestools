{
 "cells": [
  {
   "attachments": {},
   "cell_type": "markdown",
   "metadata": {},
   "source": [
    "# Demo to test and show the functionality of the library"
   ]
  },
  {
   "cell_type": "code",
   "execution_count": 9,
   "metadata": {},
   "outputs": [],
   "source": [
    "# Importing Functions\n",
    "import numpy as np\n",
    "import matplotlib.pyplot as plt\n",
    "import matplotlib\n",
    "matplotlib.use('TKAgg') # Needed to have figures display properly. \n",
    "import flirimageextractor\n",
    "import Utils as u\n",
    "import cv2"
   ]
  },
  {
   "cell_type": "code",
   "execution_count": 2,
   "metadata": {},
   "outputs": [],
   "source": [
    "filename = \"C:\\\\Users\\\\Francisco\\\\Documents\\\\dataset_termal_destino\\\\Control_Image termal C_paciente 3 (VC)_flir_control_flir_20190907T092339.jpg\"\n",
    "#filename = \"D:\\\\FLIROne\\FLIR_20230426_044637_061.jpg\"\n",
    "#filename = \"D:\\\\FLIROne\\FLIR_20230426_044706_939.jpg\"\n",
    "flir = flirimageextractor.FlirImageExtractor(exiftool_path=\"C:\\\\Windows\\\\exiftool.exe\")\n",
    "flir.process_image(filename, RGB=True)"
   ]
  },
  {
   "cell_type": "code",
   "execution_count": 3,
   "metadata": {},
   "outputs": [],
   "source": [
    "therm = flir.get_thermal_np()\n",
    "rgb_fullres = flir.get_rgb_np()\n",
    "plt.figure(figsize=(10,5))\n",
    "plt.subplot(1,2,1)\n",
    "plt.imshow(therm)\n",
    "plt.title('Raw Thermal Image')\n",
    "plt.subplot(1,2,2)\n",
    "plt.imshow(rgb_fullres)\n",
    "plt.title('RGB Full Resolution Image')\n",
    "plt.show(block='TRUE') "
   ]
  },
  {
   "cell_type": "code",
   "execution_count": 4,
   "metadata": {},
   "outputs": [
    {
     "name": "stdout",
     "output_type": "stream",
     "text": [
      "Image with offsetx=-1, offsety=37, pipx2=479, pipy2=639, real2ir=1.22885632514954\n"
     ]
    }
   ],
   "source": [
    "colormap_image, Imsalida,temp_img_resized,image_copy = u.extract_images(flir)"
   ]
  },
  {
   "cell_type": "code",
   "execution_count": 5,
   "metadata": {},
   "outputs": [],
   "source": [
    "u.save_thermal_csv(temp_img_resized,\"temperature_examples.csv\",delimiter=\";\")"
   ]
  },
  {
   "attachments": {},
   "cell_type": "markdown",
   "metadata": {},
   "source": [
    "# second part of the demo get the perspective transformation between two images"
   ]
  },
  {
   "cell_type": "code",
   "execution_count": 6,
   "metadata": {},
   "outputs": [
    {
     "name": "stdout",
     "output_type": "stream",
     "text": [
      "Image with offsetx=-1, offsety=37, pipx2=479, pipy2=639, real2ir=1.22885632514954\n"
     ]
    }
   ],
   "source": [
    "filename2 = \"C:\\\\Users\\\\Francisco\\\\Documents\\\\dataset_termal_destino\\\\Control_Image termal C_paciente 3 (VC)_flir_control_flir_20190907T092409.jpg\"\n",
    "flir2 = flirimageextractor.FlirImageExtractor(exiftool_path=\"C:\\\\Windows\\\\exiftool.exe\")\n",
    "flir2.process_image(filename2, RGB=True)\n",
    "therm2 = flir2.get_thermal_np()\n",
    "rgb_fullres2 = flir2.get_rgb_np()\n",
    "plt.figure(figsize=(10,5))\n",
    "plt.subplot(1,2,1)\n",
    "plt.imshow(therm2)\n",
    "plt.title('Raw Thermal Image')\n",
    "plt.subplot(1,2,2)\n",
    "plt.imshow(rgb_fullres2)\n",
    "plt.title('RGB Full Resolution Image')\n",
    "plt.show(block='TRUE') \n",
    "colormap_image2, Imsalida2,temp_img_resized2,image_copy2 = u.extract_images(flir2)\n",
    "u.save_thermal_csv(temp_img_resized2,\"temperature_examples2.csv\",delimiter=\";\")"
   ]
  },
  {
   "cell_type": "code",
   "execution_count": 11,
   "metadata": {},
   "outputs": [],
   "source": [
    "output_image,homography_matrix=u.matchbydescriptors(image_copy,image_copy2)\n",
    "plt.figure(figsize=(10,5))\n",
    "plt.subplot(1,2,1)\n",
    "plt.imshow(output_image)\n",
    "plt.title('registration between images')\n",
    "plt.subplot(1,2,2)\n",
    "plt.imshow(cv2.addWeighted(image_copy, 1 - 0.5, image_copy2, 0.5, 0))\n",
    "plt.title('Pair of images witout registration')\n",
    "plt.show(block='TRUE') "
   ]
  }
 ],
 "metadata": {
  "kernelspec": {
   "display_name": "thermal",
   "language": "python",
   "name": "python3"
  },
  "language_info": {
   "codemirror_mode": {
    "name": "ipython",
    "version": 3
   },
   "file_extension": ".py",
   "mimetype": "text/x-python",
   "name": "python",
   "nbconvert_exporter": "python",
   "pygments_lexer": "ipython3",
   "version": "3.8.16"
  },
  "orig_nbformat": 4
 },
 "nbformat": 4,
 "nbformat_minor": 2
}
