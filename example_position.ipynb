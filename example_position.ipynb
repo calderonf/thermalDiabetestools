{
 "cells": [
  {
   "attachments": {},
   "cell_type": "markdown",
   "metadata": {},
   "source": [
    "# demo to test different registration between the cameras of flir one pro"
   ]
  },
  {
   "cell_type": "code",
   "execution_count": 1,
   "metadata": {},
   "outputs": [],
   "source": [
    "# Importing Functions\n",
    "import numpy as np\n",
    "import matplotlib.pyplot as plt\n",
    "import matplotlib\n",
    "matplotlib.use('TKAgg') # Needed to have figures display properly. \n",
    "import flirimageextractor\n",
    "import Utils as u\n",
    "import cv2"
   ]
  },
  {
   "cell_type": "code",
   "execution_count": 2,
   "metadata": {},
   "outputs": [
    {
     "data": {
      "text/plain": [
       "[None, None, None, None]"
      ]
     },
     "execution_count": 2,
     "metadata": {},
     "output_type": "execute_result"
    }
   ],
   "source": [
    "filename=[]\n",
    "filename.append(\"examples_media\\FLIR_20230613_034208_226.jpg\")\n",
    "filename.append( \"examples_media\\FLIR_20230613_034210_684.jpg\")\n",
    "filename.append( \"examples_media\\FLIR_20230613_034242_647.jpg\")\n",
    "filename.append( \"examples_media\\FLIR_20230613_034254_306.jpg\")#bad aligned image with default parameters\n",
    "flir=[]\n",
    "\n",
    "flir= [flirimageextractor.FlirImageExtractor(exiftool_path=\"C:\\\\Windows\\\\exiftool.exe\") for i in [0,1,2,3]]\n",
    "[flir[i].process_image(filename[i], RGB=True) for i in [0,1,2,3]]\n"
   ]
  },
  {
   "cell_type": "code",
   "execution_count": 3,
   "metadata": {},
   "outputs": [],
   "source": [
    "def drawRawsflir(flir):\n",
    "    therm = flir.get_thermal_np()\n",
    "    rgb_fullres = flir.get_rgb_np()\n",
    "    plt.figure(figsize=(10,5))\n",
    "    plt.subplot(1,2,1)\n",
    "    plt.imshow(therm)\n",
    "    plt.title('Raw Thermal Image')\n",
    "    plt.subplot(1,2,2)\n",
    "    plt.imshow(rgb_fullres)\n",
    "    plt.title('RGB Full Resolution Image')\n",
    "    plt.show(block='TRUE') "
   ]
  },
  {
   "cell_type": "code",
   "execution_count": 4,
   "metadata": {},
   "outputs": [
    {
     "data": {
      "text/plain": [
       "[None, None, None, None]"
      ]
     },
     "execution_count": 4,
     "metadata": {},
     "output_type": "execute_result"
    }
   ],
   "source": [
    "[drawRawsflir(flir[i]) for i in [0,1,2,3]]"
   ]
  },
  {
   "cell_type": "code",
   "execution_count": 4,
   "metadata": {},
   "outputs": [
    {
     "name": "stdout",
     "output_type": "stream",
     "text": [
      "Image with offsetx=68, offsety=1, pipx2=639, pipy2=479, real2ir=1.22885632514954\n",
      "Image with offsetx=68, offsety=1, pipx2=639, pipy2=479, real2ir=1.22885632514954\n",
      "Image with offsetx=50, offsety=1, pipx2=639, pipy2=479, real2ir=1.22885632514954\n",
      "Image with offsetx=36, offsety=1, pipx2=639, pipy2=479, real2ir=1.22885632514954\n"
     ]
    },
    {
     "data": {
      "text/plain": [
       "[None, None, None, None]"
      ]
     },
     "execution_count": 4,
     "metadata": {},
     "output_type": "execute_result"
    }
   ],
   "source": [
    "[u.extract_coarse_image_values(flir[i]) for i in [0,1,2,3]]"
   ]
  },
  {
   "cell_type": "code",
   "execution_count": 6,
   "metadata": {},
   "outputs": [
    {
     "name": "stdout",
     "output_type": "stream",
     "text": [
      "<class 'numpy.ndarray'>\n",
      "(480, 640)\n",
      "<class 'numpy.ndarray'>\n",
      "(1080, 1440, 3)\n"
     ]
    }
   ],
   "source": [
    "\n",
    "print(type(flir[0].get_thermal_np()))\n",
    "print((flir[0].get_thermal_np().shape))\n",
    "print(type(flir[0].get_rgb_np()))\n",
    "print((flir[0].get_rgb_np().shape))"
   ]
  },
  {
   "cell_type": "code",
   "execution_count": 13,
   "metadata": {},
   "outputs": [
    {
     "name": "stdout",
     "output_type": "stream",
     "text": [
      "ANTES: tam termal(480, 640, 3),tam rgb(1080, 1440, 3)"
     ]
    },
    {
     "name": "stdout",
     "output_type": "stream",
     "text": [
      "\n"
     ]
    }
   ],
   "source": [
    "IMG=0\n",
    "image = np.random.rand(256, 256)  # Ejemplo de imagen aleatoria de 256x256\n",
    "colormap_image = u.apply_colormap(flir[IMG].get_thermal_np())\n",
    "#offsetx=68, offsety=1,real2ir=1.22885632514954\n",
    "scale_factor = (1/1.22885632514954)*1080/(480)#(1.22885632514954)  # Escala de 0.8 para hacer la imagen más pequeña\n",
    "offset_x = 68  # Desplazamiento en el eje x\n",
    "offset_y = 1  # Desplazamiento en el eje y\n",
    "transparency = 0.5  # Transparencia de la imagen 2\n",
    "\n",
    "\n",
    "print(f\"ANTES: tam termal{colormap_image.shape},tam rgb{flir[IMG].get_rgb_np().shape}\")\n",
    "plt.figure(figsize=(10,5))\n",
    "plt.subplot(1,2,1)\n",
    "plt.imshow(colormap_image)\n",
    "plt.title('Raw Thermal Image')\n",
    "plt.subplot(1,2,2)\n",
    "plt.imshow(flir[IMG].get_rgb_np())\n",
    "plt.title('RGB Full Resolution Image')\n",
    "plt.show(block='TRUE') \n",
    "\n",
    "Imsalida=u.overlay_images(flir[IMG].get_rgb_np(), colormap_image, scale_factor, offset_x, offset_y, transparency)\n",
    "plt.figure(figsize=(10,5))\n",
    "plt.imshow(Imsalida)\n",
    "plt.title('RGB Full Resolution Image croped')\n",
    "plt.show(block='TRUE') "
   ]
  }
 ],
 "metadata": {
  "kernelspec": {
   "display_name": "thermal",
   "language": "python",
   "name": "python3"
  },
  "language_info": {
   "codemirror_mode": {
    "name": "ipython",
    "version": 3
   },
   "file_extension": ".py",
   "mimetype": "text/x-python",
   "name": "python",
   "nbconvert_exporter": "python",
   "pygments_lexer": "ipython3",
   "version": "3.8.16"
  },
  "orig_nbformat": 4
 },
 "nbformat": 4,
 "nbformat_minor": 2
}
