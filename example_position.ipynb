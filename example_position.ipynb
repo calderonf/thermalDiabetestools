{
 "cells": [
  {
   "attachments": {},
   "cell_type": "markdown",
   "metadata": {},
   "source": [
    "# demo to test different registration between the cameras of flir one pro"
   ]
  },
  {
   "cell_type": "code",
   "execution_count": 1,
   "metadata": {},
   "outputs": [],
   "source": [
    "# Importing Functions\n",
    "import numpy as np\n",
    "import matplotlib.pyplot as plt\n",
    "import matplotlib\n",
    "matplotlib.use('TKAgg') # Needed to have figures display properly. \n",
    "import flirimageextractor\n",
    "import Utils as u"
   ]
  },
  {
   "cell_type": "code",
   "execution_count": 2,
   "metadata": {},
   "outputs": [
    {
     "data": {
      "text/plain": [
       "[None, None, None, None]"
      ]
     },
     "execution_count": 2,
     "metadata": {},
     "output_type": "execute_result"
    }
   ],
   "source": [
    "filename=[]\n",
    "filename.append(\"examples_media\\FLIR_20230613_034208_226.jpg\")\n",
    "filename.append( \"examples_media\\FLIR_20230613_034210_684.jpg\")\n",
    "filename.append( \"examples_media\\FLIR_20230613_034242_647.jpg\")\n",
    "filename.append( \"examples_media\\FLIR_20230613_034254_306.jpg\")#bas aligned image with default parameters\n",
    "flir=[]\n",
    "\n",
    "flir= [flirimageextractor.FlirImageExtractor(exiftool_path=\"C:\\\\Windows\\\\exiftool.exe\") for i in [0,1,2,3]]\n",
    "[flir[i].process_image(filename[i], RGB=True) for i in [0,1,2,3]]\n"
   ]
  },
  {
   "cell_type": "code",
   "execution_count": 3,
   "metadata": {},
   "outputs": [],
   "source": [
    "def drawRawsflir(flir):\n",
    "    therm = flir.get_thermal_np()\n",
    "    rgb_fullres = flir.get_rgb_np()\n",
    "    plt.figure(figsize=(10,5))\n",
    "    plt.subplot(1,2,1)\n",
    "    plt.imshow(therm)\n",
    "    plt.title('Raw Thermal Image')\n",
    "    plt.subplot(1,2,2)\n",
    "    plt.imshow(rgb_fullres)\n",
    "    plt.title('RGB Full Resolution Image')\n",
    "    plt.show(block='TRUE') "
   ]
  },
  {
   "cell_type": "code",
   "execution_count": 4,
   "metadata": {},
   "outputs": [
    {
     "data": {
      "text/plain": [
       "[None, None, None, None]"
      ]
     },
     "execution_count": 4,
     "metadata": {},
     "output_type": "execute_result"
    }
   ],
   "source": [
    "[drawRawsflir(flir[i]) for i in [0,1,2,3]]"
   ]
  },
  {
   "cell_type": "code",
   "execution_count": 5,
   "metadata": {},
   "outputs": [
    {
     "name": "stdout",
     "output_type": "stream",
     "text": [
      "Image with offsetx=68, offsety=1, pipx2=639, pipy2=479, real2ir=1.22885632514954\n",
      "Image with offsetx=68, offsety=1, pipx2=639, pipy2=479, real2ir=1.22885632514954\n",
      "Image with offsetx=50, offsety=1, pipx2=639, pipy2=479, real2ir=1.22885632514954\n",
      "Image with offsetx=36, offsety=1, pipx2=639, pipy2=479, real2ir=1.22885632514954\n"
     ]
    },
    {
     "data": {
      "text/plain": [
       "[None, None, None, None]"
      ]
     },
     "execution_count": 5,
     "metadata": {},
     "output_type": "execute_result"
    }
   ],
   "source": [
    "[u.extract_coarse_image_values(flir[i]) for i in [0,1,2,3]]\n"
   ]
  }
 ],
 "metadata": {
  "kernelspec": {
   "display_name": "thermal",
   "language": "python",
   "name": "python3"
  },
  "language_info": {
   "codemirror_mode": {
    "name": "ipython",
    "version": 3
   },
   "file_extension": ".py",
   "mimetype": "text/x-python",
   "name": "python",
   "nbconvert_exporter": "python",
   "pygments_lexer": "ipython3",
   "version": "3.8.16"
  },
  "orig_nbformat": 4
 },
 "nbformat": 4,
 "nbformat_minor": 2
}
